{
 "cells": [
  {
   "cell_type": "code",
   "execution_count": 1,
   "metadata": {},
   "outputs": [
    {
     "name": "stdout",
     "output_type": "stream",
     "text": [
      "this is from t1\n",
      "5 10\n",
      "this is from t2\n",
      "5 10\n"
     ]
    }
   ],
   "source": [
    "# objects\n",
    "# class object \n",
    "class Test:\n",
    "    def __init__(self):# instance object\n",
    "        self.a=5\n",
    "        self.b=10\n",
    "\n",
    "t1=Test()\n",
    "t2=Test()# instance object\n",
    "\n",
    "print(\"this is from t1\")\n",
    "print(t1.a,t1.b)\n",
    "print(\"this is from t2\")\n",
    "print(t2.a,t2.b)\n"
   ]
  },
  {
   "cell_type": "code",
   "execution_count": 3,
   "metadata": {},
   "outputs": [
    {
     "name": "stdout",
     "output_type": "stream",
     "text": [
      "this is from t1\n",
      "3 6\n",
      "this is from t2\n",
      "1 2\n"
     ]
    }
   ],
   "source": [
    "class Test:\n",
    "    def __init__(self,a,b):\n",
    "        self.a=a\n",
    "        self.b=b\n",
    "\n",
    "t1=Test(3,6)\n",
    "t2=Test(1,2)\n",
    "\n",
    "print(\"this is from t1\")\n",
    "print(t1.a,t1.b)\n",
    "print(\"this is from t2\")\n",
    "print(t2.a,t2.b)\n"
   ]
  },
  {
   "cell_type": "code",
   "execution_count": 5,
   "metadata": {},
   "outputs": [
    {
     "name": "stdout",
     "output_type": "stream",
     "text": [
      "1 2\n",
      "hello\n",
      "5\n"
     ]
    }
   ],
   "source": [
    "#method\n",
    "# instance method\n",
    "# static method\n",
    "# class method\n",
    "\n",
    "\n",
    "class Test:\n",
    "\n",
    "    x=5#class object variable\n",
    "    def __init__(self,a,b): #instance object variable\n",
    "        self.a=a\n",
    "        self.b=b\n",
    "\n",
    "    def simple(self): #instance method\n",
    "        print(self.a,self.b)\n",
    "\n",
    "    @staticmethod\n",
    "    def f2():   #static method\n",
    "        print(\"hello\")\n",
    "\n",
    "    @classmethod\n",
    "    def f3(cls): #class method\n",
    "        print(cls.x)\n",
    "    \n",
    "\n",
    "t1=Test(1,2)\n",
    "\n",
    "t1.simple()\n",
    "Test.f2()\n",
    "Test.f3()\n",
    "\n",
    "\n",
    "\n",
    "#static variable that are variable inside class variable\n",
    "#instance variable that are variable individual instance object variable\n"
   ]
  },
  {
   "cell_type": "code",
   "execution_count": 14,
   "metadata": {},
   "outputs": [
    {
     "name": "stdout",
     "output_type": "stream",
     "text": [
      "1234 goli 60000\n",
      "1 abc 1000\n"
     ]
    }
   ],
   "source": [
    "\n",
    "class Employee:\n",
    "    # empid=1234\n",
    "    # name=\"goli\"\n",
    "    # salary=60000\n",
    "    def __init__(self,empid=None,name=None,salary=None):\n",
    "        self.empid=empid\n",
    "        self.name=name\n",
    "        self.salary=salary\n",
    "\n",
    "\n",
    "\n",
    "    def s1(self,empid):\n",
    "            self.empid=empid\n",
    "    def s2(self,name):\n",
    "            self.name=name\n",
    "    def s3(self,salary):\n",
    "            self.salary=salary\n",
    "\n",
    "    def g1(self):\n",
    "            return self.empid\n",
    "    def g2(self):\n",
    "            return self.name\n",
    "    def g3(self):\n",
    "            return self.salary\n",
    "            \n",
    "            \n",
    "         \n",
    "\n",
    "emp1=Employee(1234,\"goli\",60000)\n",
    "emp=Employee()\n",
    "\n",
    "\n",
    "emp.s1(1)\n",
    "emp.s2(\"abc\")\n",
    "emp.s3(1000)\n",
    "\n",
    "print(emp1.g1(),emp1.g2(),emp1.g3())\n",
    "\n",
    "print(emp.g1(),emp.g2(),emp.g3())\n",
    "\n"
   ]
  },
  {
   "cell_type": "code",
   "execution_count": null,
   "metadata": {},
   "outputs": [],
   "source": []
  }
 ],
 "metadata": {
  "kernelspec": {
   "display_name": "Python 3",
   "language": "python",
   "name": "python3"
  },
  "language_info": {
   "codemirror_mode": {
    "name": "ipython",
    "version": 3
   },
   "file_extension": ".py",
   "mimetype": "text/x-python",
   "name": "python",
   "nbconvert_exporter": "python",
   "pygments_lexer": "ipython3",
   "version": "3.8.10"
  },
  "orig_nbformat": 4
 },
 "nbformat": 4,
 "nbformat_minor": 2
}
