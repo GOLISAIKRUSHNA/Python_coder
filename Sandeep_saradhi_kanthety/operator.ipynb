{
 "cells": [
  {
   "cell_type": "code",
   "execution_count": 2,
   "metadata": {},
   "outputs": [],
   "source": [
    "# arithmetic  +-*/%//**\n",
    "# relation    <,>,<=,>=,==,!=\n",
    "# assignment  =,+=,-+,/=,%=,//=\n",
    "# logical     and ,or,not\n",
    "# bitwise     &,|,^,~,<<,>>\n",
    "\n",
    "# logical==bitwise\n",
    "\n",
    "\n",
    "# membership   in,notin\n",
    "# identity     is,notis"
   ]
  },
  {
   "cell_type": "code",
   "execution_count": 3,
   "metadata": {},
   "outputs": [
    {
     "name": "stdout",
     "output_type": "stream",
     "text": [
      "4\n",
      "0\n",
      "-11\n",
      "-5\n"
     ]
    }
   ],
   "source": [
    "a=10\n",
    "b=4\n",
    "c=2\n",
    "\n",
    "# print(a/2)\n",
    "# print(a//2)\n",
    "\n",
    "# print(a%2)\n",
    "# print(2%a)\n",
    "\n",
    "print(c and b)\n",
    "print(b & c)\n",
    "\n",
    "print(~a)  #2's complement\n",
    "print(~b)\n",
    "\n",
    "\n"
   ]
  },
  {
   "cell_type": "code",
   "execution_count": 4,
   "metadata": {},
   "outputs": [
    {
     "name": "stdout",
     "output_type": "stream",
     "text": [
      "8\n",
      "0\n"
     ]
    }
   ],
   "source": [
    "a=2\n",
    "\n",
    "print(a<<2)\n",
    "print(a>>2)"
   ]
  },
  {
   "cell_type": "code",
   "execution_count": 5,
   "metadata": {},
   "outputs": [
    {
     "name": "stdout",
     "output_type": "stream",
     "text": [
      "True\n",
      "False\n"
     ]
    }
   ],
   "source": [
    "\n",
    "a=[1,2,3,4,5,6,7,8,9]\n",
    "\n",
    "print(1 in a)\n",
    "print(6 not in a)\n"
   ]
  },
  {
   "cell_type": "code",
   "execution_count": 6,
   "metadata": {},
   "outputs": [
    {
     "name": "stdout",
     "output_type": "stream",
     "text": [
      "9793216\n",
      "9793216\n",
      "True\n",
      "False\n",
      "True\n"
     ]
    }
   ],
   "source": [
    "a=5\n",
    "b=5\n",
    "c=6\n",
    "\n",
    "print(id(a))\n",
    "print(id(b))\n",
    "\n",
    "print(a is b)\n",
    "print(a is not b)\n",
    "\n",
    "print(a is not c)\n",
    "\n",
    "\n",
    "\n"
   ]
  },
  {
   "cell_type": "code",
   "execution_count": 7,
   "metadata": {},
   "outputs": [
    {
     "name": "stdout",
     "output_type": "stream",
     "text": [
      "3\n",
      "-4.0\n",
      "11.0\n",
      "24\n",
      "2\n",
      "210.0\n",
      "1\n",
      "4.0\n",
      "4.0\n",
      "-0.9880316240928618\n",
      "0.15425144988758405\n",
      "-6.405331196646276\n",
      "nan\n",
      "3.141592653589793\n",
      "inf\n",
      "2.0\n"
     ]
    }
   ],
   "source": [
    "import math as sai\n",
    "\n",
    "a=4\n",
    "b=-1\n",
    "l=[10,20,30,40,50,60]\n",
    "s=30\n",
    "\n",
    "print(sai.ceil(2.3))\n",
    "print(sai.copysign(a,b))\n",
    "\n",
    "print(sai.fabs(4+2+5))\n",
    "print(sai.factorial(4))\n",
    "\n",
    "print(sai.floor(2.5))\n",
    "print(sai.fsum(l))\n",
    "\n",
    "print(sai.gcd(3,10))\n",
    "print(sai.pow(2,2))\n",
    "\n",
    "\n",
    "print(sai.sqrt(16))\n",
    "print(sai.sin(s))\n",
    "print(sai.cos(30))\n",
    "print(sai.tan(30))\n",
    "print(sai.nan)\n",
    "print(sai.pi)\n",
    "print(sai.inf)\n",
    "print(sai.fabs(2))\n",
    "\n",
    "\n"
   ]
  },
  {
   "cell_type": "code",
   "execution_count": 8,
   "metadata": {},
   "outputs": [
    {
     "name": "stdout",
     "output_type": "stream",
     "text": [
      "0.06717046382182179\n",
      "2\n",
      "None\n",
      "4.5733558605051385\n",
      "2\n",
      "37\n",
      "None\n"
     ]
    }
   ],
   "source": [
    "import random as r\n",
    "\n",
    "new=[1,2,37,48]\n",
    "print(r.random())  \n",
    "print(r.randrange(2,10))\n",
    "\n",
    "print(r.shuffle(new))\n",
    "print(r.uniform(2,5))\n",
    "\n",
    "print(r.choice(new))\n",
    "print(r.choice(new))\n",
    "\n",
    "print(r.shuffle(new))\n",
    "\n",
    "\n",
    "\n"
   ]
  },
  {
   "cell_type": "code",
   "execution_count": 9,
   "metadata": {},
   "outputs": [
    {
     "name": "stdout",
     "output_type": "stream",
     "text": [
      "1\n",
      "2\n",
      "3\n",
      "4\n",
      "5\n",
      "6\n",
      "7\n",
      "8\n",
      "9\n",
      "10\n"
     ]
    }
   ],
   "source": [
    "for i in range(1,10+1):\n",
    "    print(i)"
   ]
  },
  {
   "cell_type": "code",
   "execution_count": 16,
   "metadata": {},
   "outputs": [
    {
     "name": "stdout",
     "output_type": "stream",
     "text": [
      "1\n",
      "3\n",
      "5\n",
      "7\n",
      "9\n",
      "----------****--------\n",
      "20\n",
      "40\n"
     ]
    }
   ],
   "source": [
    "for i in range(1,10,2):\n",
    "    print(i)\n",
    "\n",
    "\n",
    "print(\"----------****--------\")\n",
    "for i in range(1,5,2):\n",
    "    print(l[i])"
   ]
  },
  {
   "cell_type": "code",
   "execution_count": 11,
   "metadata": {},
   "outputs": [
    {
     "name": "stdout",
     "output_type": "stream",
     "text": [
      "1\n",
      "3\n",
      "5\n",
      "7\n",
      "9\n",
      "11\n",
      "13\n"
     ]
    }
   ],
   "source": [
    "prime=[2,3,5,7,11,13,17,19,23,29,31,37,41,47]\n",
    "for item in range(1,len(prime),2):\n",
    "    print(item)\n"
   ]
  },
  {
   "cell_type": "code",
   "execution_count": 12,
   "metadata": {},
   "outputs": [
    {
     "name": "stdout",
     "output_type": "stream",
     "text": [
      "3\n",
      "7\n",
      "13\n",
      "19\n",
      "29\n",
      "37\n",
      "47\n"
     ]
    }
   ],
   "source": [
    "for q in range(1,len(prime),2):\n",
    "    print(prime[q])"
   ]
  },
  {
   "cell_type": "code",
   "execution_count": 13,
   "metadata": {},
   "outputs": [
    {
     "name": "stdout",
     "output_type": "stream",
     "text": [
      "****\n",
      "****\n",
      "****\n",
      "****\n"
     ]
    }
   ],
   "source": [
    "n=int(input())\n",
    "\n",
    "for i in range(1,n+1,1):\n",
    "    for j in range(1,n+1,1):\n",
    "        print(\"*\",end=\"\")\n",
    "    print()"
   ]
  },
  {
   "cell_type": "code",
   "execution_count": 14,
   "metadata": {},
   "outputs": [
    {
     "name": "stdout",
     "output_type": "stream",
     "text": [
      "*\n",
      "**\n",
      "***\n",
      "****\n"
     ]
    }
   ],
   "source": [
    "n=int(input())\n",
    "\n",
    "for i in range(1,n+1,1):\n",
    "    for j in range(1,i+1,1):\n",
    "        print(\"*\",end=\"\")\n",
    "    print()"
   ]
  },
  {
   "cell_type": "code",
   "execution_count": 17,
   "metadata": {},
   "outputs": [
    {
     "name": "stdout",
     "output_type": "stream",
     "text": [
      "*\n",
      "**\n",
      "***\n",
      "****\n"
     ]
    }
   ],
   "source": [
    "\n"
   ]
  }
 ],
 "metadata": {
  "kernelspec": {
   "display_name": "Python 3",
   "language": "python",
   "name": "python3"
  },
  "language_info": {
   "codemirror_mode": {
    "name": "ipython",
    "version": 3
   },
   "file_extension": ".py",
   "mimetype": "text/x-python",
   "name": "python",
   "nbconvert_exporter": "python",
   "pygments_lexer": "ipython3",
   "version": "3.8.10"
  },
  "orig_nbformat": 4
 },
 "nbformat": 4,
 "nbformat_minor": 2
}
