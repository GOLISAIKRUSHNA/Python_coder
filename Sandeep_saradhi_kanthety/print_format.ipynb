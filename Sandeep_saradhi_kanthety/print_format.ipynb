{
 "cells": [
  {
   "cell_type": "code",
   "execution_count": 1,
   "metadata": {},
   "outputs": [
    {
     "name": "stdout",
     "output_type": "stream",
     "text": [
      "welcome to python programming\n"
     ]
    }
   ],
   "source": [
    "print(\"welcome to python programming\")"
   ]
  },
  {
   "cell_type": "code",
   "execution_count": 5,
   "metadata": {},
   "outputs": [
    {
     "name": "stdout",
     "output_type": "stream",
     "text": [
      "Value of a: 10\n",
      "value of b: 20.5\n",
      "10 and 20.500000 value\n",
      "10 and 20.500000 value\n",
      "string: Goli\n",
      "Different Method to print string Goli\n",
      "2332\n",
      "Goli sai\n",
      "Format string:String Format\n"
     ]
    }
   ],
   "source": [
    "a=10\n",
    "b=20.5\n",
    "c=\"Goli\"\n",
    "d=\"2332\"\n",
    "name=\"String Format\"\n",
    "\n",
    "print(\"Value of a:\",a)\n",
    "print(\"value of b:\",b)\n",
    "\n",
    "\n",
    "print(\"%d and %f value\"%(a,b))\n",
    "print(\"%d and %f value\"%(a,b))\n",
    "\n",
    "print(\"string:\",c)\n",
    "print(\"Different Method to print string %s\"%(c))\n",
    "\n",
    "print(int(d))\n",
    "\n",
    "print(\"Goli\",end=\" \")\n",
    "print(\"sai\")\n",
    "\n",
    "print(f\"Format string:{name}\")"
   ]
  },
  {
   "cell_type": "code",
   "execution_count": 30,
   "metadata": {},
   "outputs": [
    {
     "name": "stdout",
     "output_type": "stream",
     "text": [
      "1 2 3 4\n",
      "9 9 9 9\n",
      "[1, 2, 3] [12, 23]\n",
      "['45']\n"
     ]
    }
   ],
   "source": [
    "\n",
    "a,b,c,d=1,2,3,4\n",
    "print(a,b,c,d)\n",
    "\n",
    "e=f=g=h=9\n",
    "print(e,f,g,h)\n",
    "\n",
    "k,l=[[1,2,3],[12,23]]\n",
    "print(k,l)\n",
    "\n",
    "j=input().split()\n",
    "print(j)\n",
    "\n",
    "\n"
   ]
  },
  {
   "cell_type": "code",
   "execution_count": 34,
   "metadata": {},
   "outputs": [
    {
     "name": "stdout",
     "output_type": "stream",
     "text": [
      "3.3333333333333335\n",
      "float 3.33\n",
      "%.2f 3.3333333333333335\n"
     ]
    }
   ],
   "source": [
    "a=10/3\n",
    "\n",
    "print(a)\n",
    "print(\"float %.2f\"%(a))\n"
   ]
  }
 ],
 "metadata": {
  "kernelspec": {
   "display_name": "Python 3",
   "language": "python",
   "name": "python3"
  },
  "language_info": {
   "codemirror_mode": {
    "name": "ipython",
    "version": 3
   },
   "file_extension": ".py",
   "mimetype": "text/x-python",
   "name": "python",
   "nbconvert_exporter": "python",
   "pygments_lexer": "ipython3",
   "version": "3.8.10"
  },
  "orig_nbformat": 4
 },
 "nbformat": 4,
 "nbformat_minor": 2
}
