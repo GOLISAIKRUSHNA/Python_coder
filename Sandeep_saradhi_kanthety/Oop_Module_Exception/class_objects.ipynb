{
 "cells": [
  {
   "cell_type": "code",
   "execution_count": 29,
   "metadata": {},
   "outputs": [
    {
     "name": "stdout",
     "output_type": "stream",
     "text": [
      "brown 5.8\n",
      "white_cool 6\n",
      "white 5.7\n"
     ]
    }
   ],
   "source": [
    "\n",
    "class Human:  # class\n",
    "    \n",
    "    def __init__(self,clr=\"brown\",hgt=\"5.8\"):#constructor\n",
    "\n",
    "        \n",
    "        self.c=clr\n",
    "        self.h=hgt\n",
    "        # print(self.h,self.w)\n",
    "    def run(self):\n",
    "        print(\"running ....\")\n",
    "        return \n",
    "    def walk(self):\n",
    "        print(\"walking ....\")\n",
    "        return\n",
    "\n",
    "sai =Human() #object\n",
    "shyam=Human(\"white\",5.7)\n",
    "# shyam.h=5.7\n",
    "# shyam.w=70\n",
    "\n",
    "\n",
    "Dhanu=Human(\"white_cool\",6)\n",
    "# shyam.h=6\n",
    "# shyam.w=90\n",
    "\n",
    "\n",
    "\n",
    "# print(sai.h,sai.w)\n",
    "# print(sai.run(),sai.walk(),\"\\n\\n\")\n",
    "\n",
    "\n",
    "# shyam=Human(\"white\",\"5.7\")\n",
    "# print(shyam.run(),shyam.walk(),\"\\n\\n\")\n",
    "\n",
    "# Dhanu=Human(\"white_cool \",\"6\")\n",
    "\n",
    "# print(Dhanu.run(),Dhanu.walk(),\"\\n\\n\")\n",
    "\n",
    "\n",
    "print(sai.c,sai.h)\n",
    "print(Dhanu.c,Dhanu.h)\n",
    "print(shyam.c,shyam.h)\n",
    "\n",
    "\n",
    "\n",
    "\n",
    "\n"
   ]
  },
  {
   "cell_type": "code",
   "execution_count": 35,
   "metadata": {},
   "outputs": [
    {
     "name": "stdout",
     "output_type": "stream",
     "text": [
      "parent\n",
      "Child\n",
      "None None\n"
     ]
    }
   ],
   "source": [
    "#inheritance\n",
    "\n",
    "\n",
    "#single\n",
    "\n",
    "class base:\n",
    "    def parent(self):\n",
    "        print(\"parent\")\n",
    "\n",
    "class derive(base):\n",
    "    def child(self):\n",
    "        print(\"Child\")\n",
    "\n",
    "\n",
    "\n",
    "d=derive()\n",
    "print(d.parent(),d.child())"
   ]
  },
  {
   "cell_type": "code",
   "execution_count": 36,
   "metadata": {},
   "outputs": [
    {
     "name": "stdout",
     "output_type": "stream",
     "text": [
      "grandparent\n",
      "parent\n",
      "Child\n",
      "None None None\n"
     ]
    }
   ],
   "source": [
    "#Multilevel\n",
    "\n",
    "class gp:\n",
    "    def grand(self):\n",
    "        print(\"grandparent\")\n",
    "\n",
    "class p(gp):\n",
    "    def parent(self):\n",
    "        print(\"parent\")\n",
    "class c(p):\n",
    "    def child(self):\n",
    "        print(\"Child\")\n",
    "\n",
    "\n",
    "l=c()\n",
    "print(l.grand(),l.parent(),l.child())"
   ]
  },
  {
   "cell_type": "code",
   "execution_count": 47,
   "metadata": {},
   "outputs": [
    {
     "name": "stdout",
     "output_type": "stream",
     "text": [
      "Base\n",
      "Derive1\n",
      "None None\n",
      "Base\n",
      "derive2\n",
      "None None\n"
     ]
    }
   ],
   "source": [
    "#hierachial inheri\n",
    "\n",
    "class base:\n",
    "    def grand(self):\n",
    "        print(\"Base\")\n",
    "\n",
    "class derive1(base):\n",
    "    def parent(self):\n",
    "        print(\"Derive1\")\n",
    "class derive2(base):\n",
    "    def child(self):\n",
    "        print(\"derive2\")\n",
    "\n",
    "\n",
    "d1=derive1()\n",
    "d2=derive2()\n",
    "\n",
    "print(d1.grand(),d1.parent())\n",
    "\n",
    "print(d2.grand(),d2.child())\n",
    "\n"
   ]
  },
  {
   "cell_type": "code",
   "execution_count": 58,
   "metadata": {},
   "outputs": [
    {
     "name": "stdout",
     "output_type": "stream",
     "text": [
      "Father\n",
      "Mother\n",
      "child\n",
      "None None None\n"
     ]
    }
   ],
   "source": [
    "#Multiple inheri(not in java done through interface)\n",
    "\n",
    "class Father:\n",
    "    def fdisplay(self):\n",
    "        print(\"Father\")\n",
    "class Mother:\n",
    "    def mdisplay(self):\n",
    "        print(\"Mother\")\n",
    "class Child(Father, Mother):\n",
    "    def lastdisplay(self):\n",
    "        print(\"child\")\n",
    "\n",
    "\n",
    "\n",
    "ob=Child()\n",
    "print(ob.fdisplay(),ob.mdisplay(),ob.lastdisplay())"
   ]
  },
  {
   "cell_type": "code",
   "execution_count": 90,
   "metadata": {},
   "outputs": [
    {
     "name": "stdout",
     "output_type": "stream",
     "text": [
      "330\n",
      "53\n",
      "93\n"
     ]
    }
   ],
   "source": [
    "#polymorphism (inheri)\n",
    "#compile(default) Method overloading \n",
    "\n",
    "class Demo:\n",
    "    def hii(self,a,b,c=0):# not talking para when calling with no para\n",
    "        print(a+b+c)\n",
    "    def hii(self,first,third=300,four=20):#It is Only Done with Default para\n",
    "        print(first+third+four)\n",
    "\n",
    "D=Demo()\n",
    "D.hii(10)#Method overloading \n",
    "D.hii(10,23)#Method overloading \n",
    "D.hii(10,23,60)#Method overloading \n",
    "# D.hii(10,23,60,24)#Method overloading \n",
    "\n",
    "\n",
    "\n",
    "\n",
    "\n",
    "\n",
    "    \n",
    "\n",
    "\n",
    "\n"
   ]
  },
  {
   "cell_type": "code",
   "execution_count": 75,
   "metadata": {},
   "outputs": [
    {
     "name": "stdout",
     "output_type": "stream",
     "text": [
      "Focus\n"
     ]
    }
   ],
   "source": [
    "#Method overriding\n",
    "\n",
    "class Demo:\n",
    "    def sai(self):\n",
    "        print(\"Happy\")#override happen with same name function in one class and also same in other class\n",
    "class Demo1(Demo):\n",
    "    def sai(self):\n",
    "        print(\"Focus\")\n",
    "    \n",
    "D=Demo1()\n",
    "D.sai()\n"
   ]
  },
  {
   "cell_type": "code",
   "execution_count": 94,
   "metadata": {},
   "outputs": [
    {
     "name": "stdout",
     "output_type": "stream",
     "text": [
      "100\n",
      "10\n",
      "private function hii\n",
      "None\n",
      "None\n"
     ]
    }
   ],
   "source": [
    "#abstraction (Hiding implementation and showing essential things)\n",
    "\n",
    "\n",
    "\n",
    "\n"
   ]
  },
  {
   "cell_type": "code",
   "execution_count": null,
   "metadata": {},
   "outputs": [],
   "source": [
    "#data hiding\n",
    "class Demo:\n",
    "    __a=10\n",
    "    b=100\n",
    "    def __hii(self):\n",
    "        print(self.__a)\n",
    "        print(\"private function hii\")\n",
    "    def new(self):\n",
    "        print(self.__hii())\n",
    "\n",
    "d=Demo()\n",
    "print(d.b)\n",
    "print(d.new())"
   ]
  },
  {
   "cell_type": "code",
   "execution_count": 105,
   "metadata": {},
   "outputs": [
    {
     "name": "stdout",
     "output_type": "stream",
     "text": [
      "division by zero\n",
      "we printed till last program\n"
     ]
    }
   ],
   "source": [
    "#Exception handling\n",
    "\n",
    "# try:(i think error comes here)\n",
    "# except:(caught the error)\n",
    "# else:(if not error)\n",
    "# finally:(everytime it will execute)\n",
    "\n",
    "\n",
    "\n",
    "class Demo:\n",
    "    a=10\n",
    "\n",
    "d=Demo()\n",
    "try:\n",
    "    print(d.a/0)\n",
    "except Exception as e:\n",
    "    print(e)\n",
    "else:\n",
    "    print(\"no error in code\")\n",
    "finally:\n",
    "    print(\"we printed till last program\")\n",
    "\n",
    "# try:\n",
    "#     print(d.a/0)\n",
    "# except NameError:\n",
    "#     print(\"something in name_error\")\n",
    "# except ZeroDivisionError:\n",
    "#     print(\"error ayya\")\n",
    "# else:\n",
    "#     print(\"no error in code\")\n",
    "# finally:\n",
    "#     print(\"we printed till last program\")"
   ]
  }
 ],
 "metadata": {
  "kernelspec": {
   "display_name": "Python 3",
   "language": "python",
   "name": "python3"
  },
  "language_info": {
   "codemirror_mode": {
    "name": "ipython",
    "version": 3
   },
   "file_extension": ".py",
   "mimetype": "text/x-python",
   "name": "python",
   "nbconvert_exporter": "python",
   "pygments_lexer": "ipython3",
   "version": "3.8.10"
  },
  "orig_nbformat": 4
 },
 "nbformat": 4,
 "nbformat_minor": 2
}
