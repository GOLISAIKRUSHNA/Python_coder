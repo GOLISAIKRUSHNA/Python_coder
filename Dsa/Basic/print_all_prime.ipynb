{
 "cells": [
  {
   "cell_type": "code",
   "execution_count": 22,
   "metadata": {},
   "outputs": [
    {
     "name": "stdout",
     "output_type": "stream",
     "text": [
      "prime 2\n",
      "prime 3\n",
      "not prime 4\n"
     ]
    }
   ],
   "source": [
    "n=int(input())\n",
    "no=n\n",
    "temp=no\n",
    "for i in range(2,no+1,1):\n",
    "    \n",
    "        for j in range(2,i,1):\n",
    "            if(i%j==0 ):\n",
    "                print(\"not prime\",i)\n",
    "                break\n",
    "        else:\n",
    "            print(\"prime\",i)\n",
    "        \n",
    "\n",
    "\n"
   ]
  },
  {
   "cell_type": "code",
   "execution_count": 31,
   "metadata": {},
   "outputs": [
    {
     "name": "stdout",
     "output_type": "stream",
     "text": [
      "prime 2\n"
     ]
    }
   ],
   "source": [
    "#prime all prime\n",
    "\n",
    "n=int(input())\n",
    "no=n\n",
    "temp=no\n",
    "\n",
    "for i in range(2,n+1):\n",
    "    for j in range(2,i):\n",
    "        if(i%j==0):\n",
    "            print(\"not prime\",i)\n",
    "            break\n",
    "    else:\n",
    "        print(\"prime\",i)\n",
    "\n"
   ]
  },
  {
   "cell_type": "code",
   "execution_count": 35,
   "metadata": {},
   "outputs": [
    {
     "name": "stdout",
     "output_type": "stream",
     "text": [
      "prime 2\n",
      "prime 3\n",
      "prime 5\n"
     ]
    }
   ],
   "source": [
    "#print all prime\n",
    "s=int(input())\n",
    "n=no=temp=int(input())\n",
    "\n",
    "for i in range(s,n+1):\n",
    "    for j in range(s,i):\n",
    "        if(i%j==0):\n",
    "            # print(\"Not prime\",i)\n",
    "            break\n",
    "    else:\n",
    "        print(\"prime\",i)"
   ]
  }
 ],
 "metadata": {
  "kernelspec": {
   "display_name": "Python 3",
   "language": "python",
   "name": "python3"
  },
  "language_info": {
   "codemirror_mode": {
    "name": "ipython",
    "version": 3
   },
   "file_extension": ".py",
   "mimetype": "text/x-python",
   "name": "python",
   "nbconvert_exporter": "python",
   "pygments_lexer": "ipython3",
   "version": "3.8.10"
  },
  "orig_nbformat": 4
 },
 "nbformat": 4,
 "nbformat_minor": 2
}
