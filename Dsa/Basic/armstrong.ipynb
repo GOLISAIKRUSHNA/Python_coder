{
 "cells": [
  {
   "cell_type": "code",
   "execution_count": 11,
   "metadata": {},
   "outputs": [
    {
     "name": "stdout",
     "output_type": "stream",
     "text": [
      "3\n",
      "153\n",
      "It is armstrong number: 153\n"
     ]
    }
   ],
   "source": [
    "n=input()\n",
    "l=len(n)\n",
    "print(l)\n",
    "no=int(n)\n",
    "temp=no\n",
    "print(no)\n",
    "res=0\n",
    "while no>0:\n",
    "    r=no%10\n",
    "    res=res+r**l\n",
    "    no=no//10\n",
    "\n",
    "if(temp==res):\n",
    "    print(\"It is armstrong number:\",res)\n",
    "else:\n",
    "    print(\"It is not armstrong\",n)\n"
   ]
  }
 ],
 "metadata": {
  "kernelspec": {
   "display_name": "Python 3",
   "language": "python",
   "name": "python3"
  },
  "language_info": {
   "codemirror_mode": {
    "name": "ipython",
    "version": 3
   },
   "file_extension": ".py",
   "mimetype": "text/x-python",
   "name": "python",
   "nbconvert_exporter": "python",
   "pygments_lexer": "ipython3",
   "version": "3.8.10"
  },
  "orig_nbformat": 4
 },
 "nbformat": 4,
 "nbformat_minor": 2
}
