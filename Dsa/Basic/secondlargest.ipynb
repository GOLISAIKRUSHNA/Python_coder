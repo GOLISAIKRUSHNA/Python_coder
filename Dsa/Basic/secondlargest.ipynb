{
 "cells": [
  {
   "cell_type": "code",
   "execution_count": 12,
   "metadata": {},
   "outputs": [
    {
     "name": "stdout",
     "output_type": "stream",
     "text": [
      "[1, 11, 22, 99, 333, 666]\n",
      "second  largest element is: 333\n"
     ]
    }
   ],
   "source": [
    "#second largest\n",
    "\n",
    "li=list(map(int,input().split()))\n",
    "\n",
    "\n",
    "li.sort() #o(nlogn)\n",
    "print(li)\n",
    "for i in range(len(li)-2,-1,-1): # 2,3 #1,3\n",
    "    if(li[i]) != li[len(li)-1]:\n",
    "        print(\"second  largest element is:\",li[i])\n",
    "        break\n",
    "else:\n",
    "    print(\"second large ele not exist in array\")\n"
   ]
  },
  {
   "cell_type": "code",
   "execution_count": null,
   "metadata": {},
   "outputs": [],
   "source": [
    "\n",
    "\n"
   ]
  }
 ],
 "metadata": {
  "kernelspec": {
   "display_name": "Python 3",
   "language": "python",
   "name": "python3"
  },
  "language_info": {
   "codemirror_mode": {
    "name": "ipython",
    "version": 3
   },
   "file_extension": ".py",
   "mimetype": "text/x-python",
   "name": "python",
   "nbconvert_exporter": "python",
   "pygments_lexer": "ipython3",
   "version": "3.8.10"
  },
  "orig_nbformat": 4
 },
 "nbformat": 4,
 "nbformat_minor": 2
}
