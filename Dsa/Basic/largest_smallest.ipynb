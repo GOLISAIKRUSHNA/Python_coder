{
 "cells": [
  {
   "cell_type": "code",
   "execution_count": 14,
   "metadata": {},
   "outputs": [
    {
     "name": "stdout",
     "output_type": "stream",
     "text": [
      "[14, 5, 4, 5, 6, 4, 6, 464]\n",
      "464\n",
      "4\n"
     ]
    }
   ],
   "source": [
    "\n",
    "li=list(map(int,input().split()))\n",
    "print(li)\n",
    "larg=li[0]\n",
    "small=li[0]\n",
    "for i in range(0,len(li)):\n",
    "    if larg<li[i]:\n",
    "        larg=li[i]\n",
    "    elif small >li[i]:\n",
    "        small=li[i]\n",
    "    \n",
    "\n",
    "print(larg)\n",
    "print(small)"
   ]
  },
  {
   "cell_type": "code",
   "execution_count": 10,
   "metadata": {},
   "outputs": [
    {
     "name": "stdout",
     "output_type": "stream",
     "text": [
      "[4, 5, 6, 7, 8, 9, 4, 3, 4, 65, 6, 55, 45, 6, 45]\n",
      "65 3\n"
     ]
    }
   ],
   "source": [
    "\n",
    "\n",
    "\n",
    "\n",
    "li=list(map(int,input().split()))\n",
    "maxi=li[0]\n",
    "mani=li[0]\n",
    "print(li)\n",
    "\n",
    "for i in range(0,len(li)):\n",
    "    if(maxi<li[i]):\n",
    "        maxi=li[i]\n",
    "    elif(li[0]>li[i]):\n",
    "        mani=li[i]\n",
    "    \n",
    "print(maxi,mani)\n"
   ]
  },
  {
   "cell_type": "code",
   "execution_count": 15,
   "metadata": {},
   "outputs": [
    {
     "name": "stdout",
     "output_type": "stream",
     "text": [
      "1\n",
      "34\n"
     ]
    }
   ],
   "source": [
    "li=list(map(int,input().split()))\n",
    "\n",
    "print(min(li))\n",
    "print(max(li))\n"
   ]
  }
 ],
 "metadata": {
  "kernelspec": {
   "display_name": "Python 3",
   "language": "python",
   "name": "python3"
  },
  "language_info": {
   "codemirror_mode": {
    "name": "ipython",
    "version": 3
   },
   "file_extension": ".py",
   "mimetype": "text/x-python",
   "name": "python",
   "nbconvert_exporter": "python",
   "pygments_lexer": "ipython3",
   "version": "3.8.10"
  },
  "orig_nbformat": 4
 },
 "nbformat": 4,
 "nbformat_minor": 2
}
