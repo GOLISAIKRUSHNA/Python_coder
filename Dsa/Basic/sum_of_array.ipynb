{
 "cells": [
  {
   "cell_type": "code",
   "execution_count": null,
   "metadata": {},
   "outputs": [],
   "source": [
    "\n",
    "\n",
    "li=[]\n",
    "n=int(input())\n",
    "for _ in range(n):\n",
    "    li.append(int(input()))\n",
    "\n",
    "\n",
    "val=0\n",
    "\n",
    "for i in li:\n",
    "    val=val+i\n",
    "\n",
    "print(val)\n",
    "\n"
   ]
  },
  {
   "cell_type": "code",
   "execution_count": 13,
   "metadata": {},
   "outputs": [
    {
     "name": "stdout",
     "output_type": "stream",
     "text": [
      "[1, 2, 3]\n",
      "6\n"
     ]
    }
   ],
   "source": [
    "\n",
    "li=[int(x) for x in input().split()]\n",
    "print(li)\n",
    "all=0\n",
    "for i in li:\n",
    "    all=all+i\n",
    "print(all)\n"
   ]
  },
  {
   "cell_type": "code",
   "execution_count": 20,
   "metadata": {},
   "outputs": [
    {
     "name": "stdout",
     "output_type": "stream",
     "text": [
      "[1, 23, 5]\n",
      "29\n",
      "[1, 5, 23]\n",
      "5\n"
     ]
    }
   ],
   "source": [
    "\n",
    "li=list(map(int, input().split()))\n",
    "print(li)\n",
    "print(sum(li))\n",
    "print(sorted(li))\n",
    "print(li[-1])"
   ]
  }
 ],
 "metadata": {
  "kernelspec": {
   "display_name": "Python 3",
   "language": "python",
   "name": "python3"
  },
  "language_info": {
   "codemirror_mode": {
    "name": "ipython",
    "version": 3
   },
   "file_extension": ".py",
   "mimetype": "text/x-python",
   "name": "python",
   "nbconvert_exporter": "python",
   "pygments_lexer": "ipython3",
   "version": "3.8.10"
  },
  "orig_nbformat": 4
 },
 "nbformat": 4,
 "nbformat_minor": 2
}
