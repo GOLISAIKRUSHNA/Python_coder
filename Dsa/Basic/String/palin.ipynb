{
 "cells": [
  {
   "cell_type": "code",
   "execution_count": 23,
   "metadata": {},
   "outputs": [
    {
     "name": "stdout",
     "output_type": "stream",
     "text": [
      "palin\n"
     ]
    }
   ],
   "source": [
    "#palin without checking\n",
    "\n",
    "li=input()\n",
    "\n",
    "for i in range(0,len(li),1):\n",
    "    if(li[i]) ==li[len(li)-1]:\n",
    "        print(\"palin\")\n",
    "        break\n",
    "    else:\n",
    "        print(\"not palin\")\n",
    "        break\n",
    "\n",
    "\n",
    "\n",
    "\n"
   ]
  },
  {
   "cell_type": "code",
   "execution_count": 29,
   "metadata": {},
   "outputs": [
    {
     "name": "stdout",
     "output_type": "stream",
     "text": [
      "palin\n"
     ]
    }
   ],
   "source": [
    "#palin with checking through iterate\n",
    "\n",
    "li=input()\n",
    "\n",
    "for i in range(0,len(li),1): \n",
    "    if(li[i]) !=li[len(li)-1-i]:  \n",
    "        print(\"not palin\")\n",
    "        break\n",
    "    else:\n",
    "        print(\"palin\")\n",
    "        break\n"
   ]
  },
  {
   "cell_type": "code",
   "execution_count": 12,
   "metadata": {},
   "outputs": [
    {
     "name": "stdout",
     "output_type": "stream",
     "text": [
      "palin\n"
     ]
    }
   ],
   "source": [
    "#palin 1 using string\n",
    "\n",
    "n=input()\n",
    "check=n[0::1]\n",
    "rev=n[::-1]\n",
    "\n",
    "if(check==rev):\n",
    "    print(\"palin\")\n",
    "else:\n",
    "    print(\"not palin\")\n"
   ]
  },
  {
   "cell_type": "code",
   "execution_count": 17,
   "metadata": {},
   "outputs": [
    {
     "name": "stdout",
     "output_type": "stream",
     "text": [
      "palin\n"
     ]
    }
   ],
   "source": [
    "#palin 1 using int to string\n",
    "\n",
    "num=int(input())\n",
    "n=str(num)\n",
    "\n",
    "check=n[0::1]\n",
    "rev=n[::-1]\n",
    "\n",
    "if(check==rev):\n",
    "    print(\"palin\")\n",
    "else:\n",
    "    print(\"not palin\")"
   ]
  }
 ],
 "metadata": {
  "kernelspec": {
   "display_name": "Python 3",
   "language": "python",
   "name": "python3"
  },
  "language_info": {
   "codemirror_mode": {
    "name": "ipython",
    "version": 3
   },
   "file_extension": ".py",
   "mimetype": "text/x-python",
   "name": "python",
   "nbconvert_exporter": "python",
   "pygments_lexer": "ipython3",
   "version": "3.8.10"
  },
  "orig_nbformat": 4
 },
 "nbformat": 4,
 "nbformat_minor": 2
}
