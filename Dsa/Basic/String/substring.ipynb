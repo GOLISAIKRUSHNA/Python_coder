{
 "cells": [
  {
   "cell_type": "code",
   "execution_count": 3,
   "metadata": {},
   "outputs": [
    {
     "name": "stdout",
     "output_type": "stream",
     "text": [
      "sai krishna is very good boy very\n",
      " content present: very\n"
     ]
    }
   ],
   "source": [
    "#substring1\n",
    "\n",
    "n=input()\n",
    "sub=input()\n",
    "\n",
    "print(n,sub)\n",
    "if sub in n:\n",
    "    print('content present:',sub)\n",
    "else:\n",
    "    print(\"This is not subcontent\",n)\n",
    "\n",
    "\n"
   ]
  },
  {
   "cell_type": "code",
   "execution_count": null,
   "metadata": {},
   "outputs": [],
   "source": []
  },
  {
   "cell_type": "code",
   "execution_count": 20,
   "metadata": {},
   "outputs": [
    {
     "name": "stdout",
     "output_type": "stream",
     "text": [
      "18\n",
      "yes substring is there is li:  loy Index at: 14\n"
     ]
    }
   ],
   "source": [
    "#substring2 with index\n",
    "\n",
    "li=input(\"Give String:\") # sai\n",
    "sub=input(\"search string to find:\")#ai\n",
    "new=len(sub)\n",
    "f=0\n",
    "print(len(li))\n",
    "for i in range(0,len(li),1):\n",
    "    if(li[i:i+new]==sub):\n",
    "        print(\"yes substring is there is li:\",li[i:i+new],\"\\nIndex at:\",i)\n",
    "        f=1\n",
    "        break\n",
    "if f==0:\n",
    "    print(\"not present\\n\",\"-1\")\n",
    " \n",
    "\n"
   ]
  }
 ],
 "metadata": {
  "kernelspec": {
   "display_name": "Python 3",
   "language": "python",
   "name": "python3"
  },
  "language_info": {
   "codemirror_mode": {
    "name": "ipython",
    "version": 3
   },
   "file_extension": ".py",
   "mimetype": "text/x-python",
   "name": "python",
   "nbconvert_exporter": "python",
   "pygments_lexer": "ipython3",
   "version": "3.8.10"
  },
  "orig_nbformat": 4
 },
 "nbformat": 4,
 "nbformat_minor": 2
}
