{
 "cells": [
  {
   "cell_type": "code",
   "execution_count": 1,
   "metadata": {},
   "outputs": [
    {
     "name": "stdout",
     "output_type": "stream",
     "text": [
      "[1, 2, 3, 4]\n",
      "[4, 2, 3, 1]\n"
     ]
    }
   ],
   "source": [
    "#swap two first and last in list\n",
    "\n",
    "li=list(map(int,input().split()))\n",
    "\n",
    "print(li)\n",
    "\n",
    "li[0],li[-1]=li[-1],li[0]\n",
    "\n",
    "print(li)\n"
   ]
  },
  {
   "cell_type": "code",
   "execution_count": 2,
   "metadata": {},
   "outputs": [
    {
     "name": "stdout",
     "output_type": "stream",
     "text": [
      "[1, 2, 3, 4]\n",
      "0\n",
      "1\n",
      "2\n",
      "3\n",
      "[2, 1, 3, 4]\n"
     ]
    }
   ],
   "source": [
    "#swap two ele with index\n",
    "\n",
    "\n",
    "li=list(map(int,input().split()))\n",
    "print(li)\n",
    "mi=[]\n",
    "for i in range(len(li)):\n",
    "    mi.append(i)\n",
    "print(mi)\n",
    "\n",
    "a=int(input())\n",
    "b=int(input())\n",
    "\n",
    "\n",
    "li[a],li[b]=li[b],li[a]\n",
    "\n",
    "print(li)\n"
   ]
  },
  {
   "cell_type": "code",
   "execution_count": 10,
   "metadata": {},
   "outputs": [
    {
     "name": "stdout",
     "output_type": "stream",
     "text": [
      "[1, 2, 3, 4]\n",
      "After swap [1, 3, 2, 4]\n"
     ]
    }
   ],
   "source": [
    "#swap two ele with element\n",
    "\n",
    "\n",
    "\n",
    "li=list(map(int,input().split()))\n",
    "print(li)\n",
    "\n",
    "# mi=[]\n",
    "# for i in range(len(li)):\n",
    "#     mi.append(i)\n",
    "# print(mi)\n",
    "\n",
    "\n",
    "val1=int(input())\n",
    "val2=int(input())\n",
    "\n",
    "# for i in li:\n",
    "#     if(val1==i):\n",
    "#         val2=i\n",
    "#     elif(val2==i):\n",
    "#         val1=i\n",
    "\n",
    "\n",
    "for i in range(0,len(li)):\n",
    "    if(val1==li[i]):\n",
    "        li[i]=val2\n",
    "    elif(val2==li[i]):\n",
    "        li[i]=val1\n",
    "\n",
    "\n",
    "print(\"After swap\",li)\n",
    "\n",
    "\n",
    "\n",
    "\n",
    "\n",
    "\n",
    "\n"
   ]
  }
 ],
 "metadata": {
  "kernelspec": {
   "display_name": "Python 3",
   "language": "python",
   "name": "python3"
  },
  "language_info": {
   "codemirror_mode": {
    "name": "ipython",
    "version": 3
   },
   "file_extension": ".py",
   "mimetype": "text/x-python",
   "name": "python",
   "nbconvert_exporter": "python",
   "pygments_lexer": "ipython3",
   "version": "3.8.10"
  },
  "orig_nbformat": 4
 },
 "nbformat": 4,
 "nbformat_minor": 2
}
