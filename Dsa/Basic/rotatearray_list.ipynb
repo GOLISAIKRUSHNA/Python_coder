{
 "cells": [
  {
   "cell_type": "code",
   "execution_count": 9,
   "metadata": {},
   "outputs": [
    {
     "name": "stdout",
     "output_type": "stream",
     "text": [
      "[2, 3, 4, 1]\n",
      "after k rotate at right\n"
     ]
    }
   ],
   "source": [
    "#right rotate\n",
    "\n",
    "n=int(input())\n",
    "k=int(input(\"rotate right\"))\n",
    "\n",
    "li=list(map(int,input().split()))\n",
    "\n",
    "k=k%n\n",
    "li[:]=li[n-k:]+li[:n-k]\n",
    "print(li[:])\n",
    "print(\"after k rotate at right\")"
   ]
  }
 ],
 "metadata": {
  "kernelspec": {
   "display_name": "Python 3",
   "language": "python",
   "name": "python3"
  },
  "language_info": {
   "codemirror_mode": {
    "name": "ipython",
    "version": 3
   },
   "file_extension": ".py",
   "mimetype": "text/x-python",
   "name": "python",
   "nbconvert_exporter": "python",
   "pygments_lexer": "ipython3",
   "version": "3.8.10"
  },
  "orig_nbformat": 4
 },
 "nbformat": 4,
 "nbformat_minor": 2
}
