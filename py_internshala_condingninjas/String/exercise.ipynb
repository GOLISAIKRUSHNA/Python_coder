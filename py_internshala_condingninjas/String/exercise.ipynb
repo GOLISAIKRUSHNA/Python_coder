{
 "cells": [
  {
   "cell_type": "code",
   "execution_count": null,
   "metadata": {},
   "outputs": [],
   "source": [
    "#check permutation of each other to two string\n",
    "\n",
    "# num=chr(97)\n",
    "# print(num)\n",
    "# ord()\n",
    "\n",
    "# A = 65 B = 66   a = 97 b = 98\n",
    "li=\"sAbkI\"\n",
    "li.lower()\n",
    "li1=\"aksB\"\n",
    "li1.lower()\n",
    "\n",
    "new=[]\n",
    "new1=[]\n",
    "\n",
    "for i in range(len(li)):\n",
    "    j=ord(li[i])\n",
    "    new.append(j)\n",
    "# print(new)\n",
    "for i in range(len(li1)):\n",
    "    j=ord(li[i])\n",
    "    new1.append(j)\n",
    "# print(new1)\n",
    "sum1=0\n",
    "for i in range(len(new)):\n",
    "    sum1=sum1 +i\n",
    "sum2=0\n",
    "for i in range(len(new1)):\n",
    "    sum2=sum2 +i\n",
    "\n",
    "if(sum1==sum2):\n",
    "    print(\"permutation\")\n",
    "else:\n",
    "    print(\"not a permutation\")\n"
   ]
  },
  {
   "cell_type": "code",
   "execution_count": null,
   "metadata": {},
   "outputs": [],
   "source": [
    "#remove duplicate char\n",
    "\n",
    "# li=[ i for i in input().split()]\n",
    "# li =[\"s\",'s','a','i','a']  #sa\n",
    "\n",
    "\n",
    "# hii=[]\n",
    "# new=[]\n",
    "\n",
    "# for i in range(len(li)):\n",
    "#     j=ord(li[i])\n",
    "#     new.append(j)\n",
    "# print(new)\n",
    "# j=1\n",
    "# for i in range(0,len(new)):\n",
    "#     if(li[i]==new):\n",
    "#         hii.append(li[j])\n",
    "#     j=j+1\n",
    "# print(hii)\n",
    "\n",
    "li=\"geeksforgeeks\"\n",
    "hii=\"\"\n",
    "\n",
    "for i in li:\n",
    "    if i not in hii:\n",
    "        hii=hii+i\n",
    "print(hii)\n",
    "\n",
    "# new=set(li)\n",
    "# print(new)\n",
    "\n",
    "# # print(li)\n",
    "# # hii=''.join(li)\n",
    "# # print(hii)\n",
    "# li1=li.copy()\n",
    "# print(li1)\n",
    "# str=\"s a ikrsna\"\n",
    "# li=str.split()\n",
    "# print(li)\n",
    "\n",
    "\n",
    "\n",
    "\n"
   ]
  },
  {
   "cell_type": "code",
   "execution_count": null,
   "metadata": {},
   "outputs": [],
   "source": [
    "#reverse each word\n",
    "\n",
    "#esrever hcae dorw\n",
    "str=\"welcome to coding ninjas\"\n",
    "\n",
    "str1=str.split()\n",
    "\n",
    "print(str1)\n",
    "print(str1[::-1])\n",
    "# arr=[]\n",
    "# j=0\n",
    "# i=1\n",
    "# for i in str1:\n",
    "#     arr=str1.copy()\n",
    "# print(arr)\n"
   ]
  },
  {
   "cell_type": "code",
   "execution_count": 3,
   "metadata": {},
   "outputs": [
    {
     "name": "stdout",
     "output_type": "stream",
     "text": [
      "['this', 'is', 'string']\n",
      "['siht', 'si', 'gnirts']\n",
      "siht si gnirts\n"
     ]
    }
   ],
   "source": [
    "#reverse each word\n",
    "\n",
    "#esrever hcae dorw\n",
    "\n",
    "str='this is string'\n",
    "\n",
    "# new=str.split()\n",
    "# print(new)\n",
    "# rev=[]\n",
    "# for i in new:\n",
    "#     print(i[::-1],end=\" \")\n",
    "\n",
    "\n",
    "\n",
    "li=str.split()\n",
    "hii=[]\n",
    "print(li)\n",
    "for i in li:\n",
    "    hii.append(i[::-1])\n",
    "print(hii)\n",
    "rev=' '.join(hii)\n",
    "# print(' '.join(hii))\n",
    "print(rev)\n",
    "\n",
    "\n",
    "\n",
    "\n",
    "\n",
    "\n",
    "\n",
    "\n",
    "\n",
    "\n",
    "\n",
    "\n",
    "\n",
    "\n"
   ]
  },
  {
   "cell_type": "code",
   "execution_count": 70,
   "metadata": {},
   "outputs": [
    {
     "name": "stdout",
     "output_type": "stream",
     "text": [
      "['o', 'i', 'l', 'i', 'i']\n"
     ]
    },
    {
     "ename": "ValueError",
     "evalue": "list.remove(x): x not in list",
     "output_type": "error",
     "traceback": [
      "\u001b[0;31m---------------------------------------------------------------------------\u001b[0m",
      "\u001b[0;31mValueError\u001b[0m                                Traceback (most recent call last)",
      "Cell \u001b[0;32mIn[70], line 10\u001b[0m\n\u001b[1;32m      8\u001b[0m \u001b[39mfor\u001b[39;00m i \u001b[39min\u001b[39;00m str1:\n\u001b[1;32m      9\u001b[0m     \u001b[39mif\u001b[39;00m(i\u001b[39m==\u001b[39m\u001b[39m\"\u001b[39m\u001b[39mi\u001b[39m\u001b[39m\"\u001b[39m):\n\u001b[0;32m---> 10\u001b[0m         str1\u001b[39m.\u001b[39;49mremove(\u001b[39m\"\u001b[39;49m\u001b[39mg\u001b[39;49m\u001b[39m\"\u001b[39;49m)\n\u001b[1;32m     11\u001b[0m         \u001b[39mprint\u001b[39m(str1) \n\u001b[1;32m     15\u001b[0m \u001b[39m# str1=(1,2,3,2,3,1,2)\u001b[39;00m\n\u001b[1;32m     16\u001b[0m \u001b[39m# li={1,2,3,2,3,1,2}\u001b[39;00m\n\u001b[1;32m     17\u001b[0m \u001b[39m# li1=[1,2,3,2,3,1,2]\u001b[39;00m\n\u001b[0;32m   (...)\u001b[0m\n\u001b[1;32m     21\u001b[0m \u001b[39m# print(type(li1),li1)\u001b[39;00m\n\u001b[1;32m     22\u001b[0m \u001b[39m# print(type(li2),li2)\u001b[39;00m\n",
      "\u001b[0;31mValueError\u001b[0m: list.remove(x): x not in list"
     ]
    }
   ],
   "source": [
    "#remove character\n",
    "\n",
    "str=\"goilii\"\n",
    "str1=list(str)\n",
    "\n",
    "# s1=str.replace(\"i\",\"\")\n",
    "# print (s1)\n",
    "for i in str1:\n",
    "    if(i==\"i\"):\n",
    "        str1.remove(\"g\")\n",
    "        print(str1) \n",
    "\n",
    "\n",
    "\n",
    "# str1=(1,2,3,2,3,1,2)\n",
    "# li={1,2,3,2,3,1,2}\n",
    "# li1=[1,2,3,2,3,1,2]\n",
    "# li2={1:\"sai\",2:\"krishna\",3:\"Mygod\",2:\"dhanu\",2:\"manoj\"}\n",
    "# print(type(str1),str1)\n",
    "# print(type(li),li)\n",
    "# print(type(li1),li1)\n",
    "# print(type(li2),li2)\n",
    "\n",
    "\n",
    "\n"
   ]
  },
  {
   "cell_type": "code",
   "execution_count": null,
   "metadata": {},
   "outputs": [],
   "source": [
    "#highest occurring char\n",
    "\n"
   ]
  },
  {
   "cell_type": "code",
   "execution_count": null,
   "metadata": {},
   "outputs": [],
   "source": [
    "# compress the string"
   ]
  }
 ],
 "metadata": {
  "kernelspec": {
   "display_name": "Python 3",
   "language": "python",
   "name": "python3"
  },
  "language_info": {
   "codemirror_mode": {
    "name": "ipython",
    "version": 3
   },
   "file_extension": ".py",
   "mimetype": "text/x-python",
   "name": "python",
   "nbconvert_exporter": "python",
   "pygments_lexer": "ipython3",
   "version": "3.8.10"
  },
  "orig_nbformat": 4
 },
 "nbformat": 4,
 "nbformat_minor": 2
}
