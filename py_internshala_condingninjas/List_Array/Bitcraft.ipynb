{
 "cells": [
  {
   "cell_type": "code",
   "execution_count": 22,
   "metadata": {},
   "outputs": [
    {
     "name": "stdout",
     "output_type": "stream",
     "text": [
      "4\n"
     ]
    }
   ],
   "source": [
    "li=[int(i) for i in input().split()]\n",
    "step=0\n",
    "new=0\n",
    "for i in range(len(li)):\n",
    "\n",
    "   \n",
    "    if(li[i]==1):  \n",
    "        step=step+1\n",
    "       \n",
    "    elif(li[i]==2):\n",
    "        new=new +1\n",
    "      \n",
    "    else:\n",
    "        step==new\n",
    "    \n",
    "\n",
    "if():\n",
    "    pass\n",
    "elif(step>new):\n",
    "    print(step)\n",
    "elif(step<new):\n",
    "    print(new)\n",
    "else:\n",
    "    print(\"equal\",step)\n"
   ]
  }
 ],
 "metadata": {
  "kernelspec": {
   "display_name": "Python 3",
   "language": "python",
   "name": "python3"
  },
  "language_info": {
   "codemirror_mode": {
    "name": "ipython",
    "version": 3
   },
   "file_extension": ".py",
   "mimetype": "text/x-python",
   "name": "python",
   "nbconvert_exporter": "python",
   "pygments_lexer": "ipython3",
   "version": "3.8.10"
  },
  "orig_nbformat": 4
 },
 "nbformat": 4,
 "nbformat_minor": 2
}
