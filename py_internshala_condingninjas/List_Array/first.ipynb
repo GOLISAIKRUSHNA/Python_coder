{
 "cells": [
  {
   "cell_type": "code",
   "execution_count": 2,
   "metadata": {},
   "outputs": [
    {
     "data": {
      "text/plain": [
       "list"
      ]
     },
     "execution_count": 2,
     "metadata": {},
     "output_type": "execute_result"
    }
   ],
   "source": [
    "li=[]\n",
    "type(li)"
   ]
  },
  {
   "cell_type": "code",
   "execution_count": 5,
   "metadata": {},
   "outputs": [
    {
     "data": {
      "text/plain": [
       "[1.5, 'parikh', 'ankush']"
      ]
     },
     "execution_count": 5,
     "metadata": {},
     "output_type": "execute_result"
    }
   ],
   "source": [
    "#simple list\n",
    "\n",
    "li=[1,1.5,'parikh','ankush']\n",
    "\n",
    "li[0]\n",
    "li[0:]\n",
    "li[1:]"
   ]
  },
  {
   "cell_type": "code",
   "execution_count": 14,
   "metadata": {},
   "outputs": [
    {
     "name": "stdout",
     "output_type": "stream",
     "text": [
      "[1.5, 'parikh']\n",
      "[1.5, 'parikh', 'ankush']\n",
      "[1, 1.5, 'parikh', 'ankush']\n",
      "[1.5, 'ankush']\n",
      "[1, 1.5, 'parikh', 'ankush']\n"
     ]
    }
   ],
   "source": [
    "#slicing on a list\n",
    "li=[1,1.5,'parikh','ankush']\n",
    "\n",
    "print(li[1:3])  # less then higher\n",
    "\n",
    "print(li[1:])\n",
    "print(li[:])\n",
    "print(li[1::2])\n",
    "print(li[:1000000])"
   ]
  },
  {
   "cell_type": "code",
   "execution_count": 27,
   "metadata": {},
   "outputs": [
    {
     "data": {
      "text/plain": [
       "['parikh', 'ankush', 'sai', [1, 2, 3, 4, 5], 1, 2, 3, 4, 5]"
      ]
     },
     "execution_count": 27,
     "metadata": {},
     "output_type": "execute_result"
    }
   ],
   "source": [
    "#insert and append the list\n",
    "li=[]\n",
    "li.append(\"ankush\")  \n",
    "li\n",
    "\n",
    "li.insert(0,\"parikh\")  #insert at your location\n",
    "li\n",
    "\n",
    "li.insert(6,\"sai\") #by default last\n",
    "li\n",
    "\n",
    "li.append([1,2,3,4,5])\n",
    "li\n",
    "\n",
    "li.extend([1,2,3,4,5])\n",
    "li"
   ]
  },
  {
   "cell_type": "code",
   "execution_count": 48,
   "metadata": {},
   "outputs": [
    {
     "data": {
      "text/plain": [
       "['parikh', 'ankush', 1, 2, 3, 4, 4, 1, 2, 3, 4, 4]"
      ]
     },
     "execution_count": 48,
     "metadata": {},
     "output_type": "execute_result"
    }
   ],
   "source": [
    "\n",
    "\n",
    "li\n",
    "\n",
    "\n",
    "\n"
   ]
  },
  {
   "cell_type": "code",
   "execution_count": 58,
   "metadata": {},
   "outputs": [],
   "source": [
    "li\n",
    "li.pop() #will remove the last ele from the list\n",
    "li.remove(1) # remove 1 from the front and then back\n",
    "\n"
   ]
  },
  {
   "cell_type": "code",
   "execution_count": 61,
   "metadata": {},
   "outputs": [
    {
     "data": {
      "text/plain": [
       "['parikh', 'ankush', 3, 1, 2, 3]"
      ]
     },
     "execution_count": 61,
     "metadata": {},
     "output_type": "execute_result"
    }
   ],
   "source": [
    "li\n",
    "len(li) # this shows the actual len of str"
   ]
  },
  {
   "cell_type": "code",
   "execution_count": 62,
   "metadata": {},
   "outputs": [
    {
     "name": "stdout",
     "output_type": "stream",
     "text": [
      "1\n",
      "2\n",
      "sai\n",
      "ankush\n",
      "parikh\n",
      "3\n",
      "4\n"
     ]
    }
   ],
   "source": [
    "#loop on list\n",
    "li=[1,2,'sai','ankush','parikh',3,4]\n",
    "\n",
    "for i in li:\n",
    "    print(i)"
   ]
  },
  {
   "cell_type": "code",
   "execution_count": 176,
   "metadata": {},
   "outputs": [
    {
     "name": "stdout",
     "output_type": "stream",
     "text": [
      "5\n",
      "6\n"
     ]
    }
   ],
   "source": [
    "for i in li[1:]:\n",
    "    print(i)"
   ]
  },
  {
   "cell_type": "code",
   "execution_count": 178,
   "metadata": {},
   "outputs": [],
   "source": [
    "li=[7,8,9]"
   ]
  },
  {
   "cell_type": "code",
   "execution_count": 180,
   "metadata": {},
   "outputs": [
    {
     "name": "stdout",
     "output_type": "stream",
     "text": [
      "7\n",
      "8\n",
      "9\n"
     ]
    }
   ],
   "source": [
    "for i in range(len(li)):\n",
    "    print(li[i])\n"
   ]
  },
  {
   "cell_type": "code",
   "execution_count": 69,
   "metadata": {},
   "outputs": [
    {
     "name": "stdout",
     "output_type": "stream",
     "text": [
      "sai\n",
      "parikh\n",
      "4\n"
     ]
    }
   ],
   "source": [
    "for i in range(2,len(li),2):\n",
    "    print(li[i])"
   ]
  },
  {
   "cell_type": "code",
   "execution_count": 89,
   "metadata": {},
   "outputs": [
    {
     "name": "stdout",
     "output_type": "stream",
     "text": [
      "[1, 2, 3, 4, 5]\n"
     ]
    },
    {
     "data": {
      "text/plain": [
       "[1, 3]"
      ]
     },
     "execution_count": 89,
     "metadata": {},
     "output_type": "execute_result"
    }
   ],
   "source": [
    "#negative indexing\n",
    "\n",
    "li=[1,2,3,4,5]\n",
    "\n",
    "\n",
    "li[:]\n",
    "li[2:]\n",
    "li[:3]\n",
    "li[-1]\n",
    "li[-2]\n",
    "li[-3]\n",
    "li[-5]\n",
    "\n",
    "li[3:]\n",
    "\n",
    "li[-1:] # -1 to the end\n",
    "print(li)\n",
    "li[-5:]\n",
    "li[-1:-5]  #this show end at -1 will not executed\n",
    "\n",
    "li[0:3:2]\n",
    "\n"
   ]
  },
  {
   "cell_type": "code",
   "execution_count": 99,
   "metadata": {},
   "outputs": [
    {
     "name": "stdout",
     "output_type": "stream",
     "text": [
      "['1']\n",
      "['1', '2']\n"
     ]
    }
   ],
   "source": [
    "#taking input  in a list\n",
    "\n",
    "n=int(input())\n",
    "li=[]\n",
    "for i in range(n):\n",
    "    li.append(input())\n",
    "    print(li)\n",
    "\n",
    "\n",
    "\n",
    "\n"
   ]
  },
  {
   "cell_type": "code",
   "execution_count": 103,
   "metadata": {},
   "outputs": [
    {
     "name": "stdout",
     "output_type": "stream",
     "text": [
      "[1, 2, 3, 4]\n"
     ]
    }
   ],
   "source": [
    "#line separated input\n",
    "\n",
    "\n",
    "n=int(input())\n",
    "li=[]\n",
    "\n",
    "for i in range(n):\n",
    "    hii=int(input())\n",
    "    li.append(hii)\n",
    "\n",
    "print(li)\n"
   ]
  },
  {
   "cell_type": "code",
   "execution_count": 127,
   "metadata": {},
   "outputs": [
    {
     "name": "stdout",
     "output_type": "stream",
     "text": [
      "['1', '2', '3', '4', '5']\n"
     ]
    }
   ],
   "source": [
    "#space separated input\n",
    "\n",
    "\n",
    "str=input()\n",
    "\n",
    "new_split=str.split()\n",
    "\n",
    "\n",
    "print(new_split)"
   ]
  },
  {
   "cell_type": "code",
   "execution_count": 129,
   "metadata": {},
   "outputs": [
    {
     "name": "stdout",
     "output_type": "stream",
     "text": [
      "1\n",
      "2\n",
      "3\n",
      "4\n",
      "5\n"
     ]
    }
   ],
   "source": [
    "li=[]\n",
    "\n",
    "for ele in new_split:\n",
    "    li.append(int(ele))\n",
    "li\n",
    "\n",
    "for ele in li:\n",
    "    print(ele)"
   ]
  },
  {
   "cell_type": "code",
   "execution_count": 160,
   "metadata": {},
   "outputs": [
    {
     "data": {
      "text/plain": [
       "[1, 2, 3]"
      ]
     },
     "execution_count": 160,
     "metadata": {},
     "output_type": "execute_result"
    }
   ],
   "source": [
    "str=input()\n",
    "\n",
    "new=str.split(\" \")\n",
    "new\n",
    "li=[]\n",
    "for i in new:\n",
    "    li.append(int(i))\n",
    "li\n",
    "\n",
    "\n"
   ]
  },
  {
   "cell_type": "code",
   "execution_count": 168,
   "metadata": {},
   "outputs": [
    {
     "name": "stdout",
     "output_type": "stream",
     "text": [
      "1\n",
      "2\n",
      "3\n",
      "4\n",
      "5\n"
     ]
    }
   ],
   "source": [
    "for j in li:\n",
    "    print(j)\n"
   ]
  },
  {
   "cell_type": "code",
   "execution_count": 181,
   "metadata": {},
   "outputs": [
    {
     "name": "stdout",
     "output_type": "stream",
     "text": [
      "[1, 2, 3]\n",
      "element: 2 index: 1\n"
     ]
    }
   ],
   "source": [
    "# #linear search\n",
    "# n=int(input())\n",
    "# li=[int(x) for x in input().split()]\n",
    "\n",
    "# print(li)\n",
    "\n",
    "# ele=int(input(\"searching for\"))\n",
    "\n",
    "# for i in li:\n",
    "#     if(li[i]==ele):\n",
    "#         print(\"element:\",ele,\"index:\",i)\n",
    "#         break\n",
    "\n",
    "\n",
    "\n",
    "#linear search  through list taking one and one element and range(len(li))\n",
    "n=int(input())\n",
    "li=[int(x) for x in input().split()]\n",
    "\n",
    "print(li)\n",
    "\n",
    "ele=int(input(\"searching for\"))\n",
    "\n",
    "for i in range(len(li)):\n",
    "    if(li[i]==ele):\n",
    "        print(\"element:\",ele,\"index:\",i)\n",
    "        break\n"
   ]
  },
  {
   "cell_type": "code",
   "execution_count": 189,
   "metadata": {},
   "outputs": [
    {
     "name": "stdout",
     "output_type": "stream",
     "text": [
      "[6, 2, 3, 4, 5, 1]\n"
     ]
    }
   ],
   "source": [
    "#reverse_list\n",
    "\n",
    "def reverse_list(li):\n",
    "    length=len(li)\n",
    "    for i in range(length//2):  #0,1,2\n",
    "        li[i],li[length-i-1] = li[length-i-1],li[i]\n",
    "        return li\n",
    "li=[1,2,3,4,5,6]\n",
    "reverse_list(li)\n",
    "print(li)"
   ]
  },
  {
   "cell_type": "code",
   "execution_count": 195,
   "metadata": {},
   "outputs": [
    {
     "name": "stdout",
     "output_type": "stream",
     "text": [
      "[6, 2, 3, 4, 5, 1]\n"
     ]
    }
   ],
   "source": [
    "def reverse_list(li):\n",
    "    length=len(li)\n",
    "    for i in range(length//2):  #0,1,2\n",
    "        li[i],li[-i-1] = li[-i-1],li[i]\n",
    "        return li\n",
    "li=[1,2,3,4,5,6]\n",
    "sai=reverse_list(li)\n",
    "print(sai)"
   ]
  },
  {
   "cell_type": "code",
   "execution_count": 196,
   "metadata": {},
   "outputs": [
    {
     "name": "stdout",
     "output_type": "stream",
     "text": [
      "[4, 2, 3, 1]\n"
     ]
    }
   ],
   "source": [
    "#taking input and rev\n",
    "n=int(input())\n",
    "def reverse_list(li):\n",
    "    length=len(li)\n",
    "    for i in range(length//2):  #0,1,2\n",
    "        li[i],li[-i-1] = li[-i-1],li[i]\n",
    "        py=li\n",
    "        return py\n",
    "li=[int(i) for i in input().split()]\n",
    "sai=reverse_list(li)\n",
    "print(sai)"
   ]
  },
  {
   "cell_type": "code",
   "execution_count": 205,
   "metadata": {},
   "outputs": [
    {
     "data": {
      "text/plain": [
       "[6, 5, 4, 3, 2, 1]"
      ]
     },
     "execution_count": 205,
     "metadata": {},
     "output_type": "execute_result"
    }
   ],
   "source": [
    "\n",
    "li=[1,2,3,4,5,6]\n",
    "li[::]  #complete from 1,2,3,4,5,6   start:end:step  by default from 1 to n ,step=1\n",
    "li[5:2:-1]\n",
    "li[5:0:-1]\n",
    "li[5::-1]\n",
    "li[::-1]  #complete from 6,5,4,3,2,1  when we put -1, it will go from high to low  start:end:step ,step=1\n"
   ]
  },
  {
   "cell_type": "code",
   "execution_count": 249,
   "metadata": {},
   "outputs": [
    {
     "name": "stdout",
     "output_type": "stream",
     "text": [
      "0\n",
      "2\n",
      "4\n",
      "6\n",
      "[2, 1, 4, 3, 6, 5, 8, 7]\n"
     ]
    }
   ],
   "source": [
    "#swap alternate in the list\n",
    "\n",
    "li=[int(x) for x in input().split()]\n",
    "\n",
    "def swap_list(li):\n",
    "    length=len(li)\n",
    "   \n",
    "for i in range(0,len(li),2):\n",
    "    print(i)\n",
    "    temp=li[i]\n",
    "    li[i]=li[i+1]\n",
    "    li[i+1]=temp\n",
    "  \n",
    "    i=i+1\n",
    "\n",
    "swap_list(li)\n",
    "print(li)\n",
    "\n",
    "\n"
   ]
  },
  {
   "cell_type": "code",
   "execution_count": null,
   "metadata": {},
   "outputs": [],
   "source": [
    "\n"
   ]
  }
 ],
 "metadata": {
  "kernelspec": {
   "display_name": "Python 3",
   "language": "python",
   "name": "python3"
  },
  "language_info": {
   "codemirror_mode": {
    "name": "ipython",
    "version": 3
   },
   "file_extension": ".py",
   "mimetype": "text/x-python",
   "name": "python",
   "nbconvert_exporter": "python",
   "pygments_lexer": "ipython3",
   "version": "3.8.10"
  },
  "orig_nbformat": 4
 },
 "nbformat": 4,
 "nbformat_minor": 2
}
