{
 "cells": [
  {
   "cell_type": "code",
   "execution_count": null,
   "metadata": {},
   "outputs": [],
   "source": [
    "#print unique from duplicate \n",
    "\n",
    "\n",
    "\n",
    "\n",
    "li=[1,2,3,2,1,3,4,5,55,5]\n",
    "\n",
    "new=[]\n",
    "for x in li:\n",
    "    if x not in new: #set(li)   \n",
    "        new.append(x)\n",
    "print(new)\n",
    "\n",
    "\n",
    "#set(li)\n",
    "# unique=set(li) #print only unique element\n",
    "# print(unique)\n",
    "\n",
    "\n",
    "#not in\n",
    "# print(li)\n",
    "# new=[]\n",
    "# #notin\n",
    "# for ele in li:\n",
    "#     if ele not in new:\n",
    "#         new.append(ele)\n",
    "\n",
    "# print(new)\n",
    "\n",
    "\n",
    "    \n",
    "\n",
    "\n"
   ]
  },
  {
   "cell_type": "code",
   "execution_count": null,
   "metadata": {},
   "outputs": [],
   "source": [
    "\n",
    "#print array intersection means element common in both list/arr\n",
    "\n",
    "li1=[1,2,3,4,5]\n",
    "\n",
    "li2=[6,7,8,2,9]\n",
    "common=[]\n",
    "for i in range(len(li1)):\n",
    "    for j in range(len(li2)):\n",
    "        if(li1[i]==li2[j]):\n",
    "            common.append(li1[i])\n",
    "print(common)\n",
    "\n",
    "\n",
    "\n",
    "\n",
    "\n",
    "\n",
    "\n",
    "\n",
    "\n",
    "\n",
    "\n",
    "\n"
   ]
  },
  {
   "cell_type": "code",
   "execution_count": null,
   "metadata": {},
   "outputs": [],
   "source": [
    "# print pair sum\n",
    "\n",
    "li=[1,2,3,4,5]\n",
    "num=6\n",
    "new=[]\n",
    "count=0\n",
    "for i in range(len(li)):\n",
    "    for j in range(i+1,len(li)):\n",
    "        if (li[i]+li[j])==num:\n",
    "            count=count+1\n",
    "            new.append((li[i],li[j]))\n",
    "\n",
    "print(new,count)"
   ]
  },
  {
   "cell_type": "code",
   "execution_count": null,
   "metadata": {},
   "outputs": [],
   "source": [
    "#print triplet sum\n",
    "\n",
    "li=[1,2,3,4,5]\n",
    "num=6\n",
    "new=[]\n",
    "count=0\n",
    "for i in range(len(li)):\n",
    "    for j in range(1,len(li)):\n",
    "        for k in range(2,len(li)):\n",
    "            if (li[i]+li[j])+li[k]==num:\n",
    "                count=count+1\n",
    "                new.append((li[i],li[j],li[k]))\n",
    "\n",
    "print(new,count)\n"
   ]
  },
  {
   "cell_type": "code",
   "execution_count": null,
   "metadata": {},
   "outputs": [],
   "source": [
    "#n=5 01010 sort this in ascending order and then sort 0 and 1  then print\n",
    "\n",
    "\n",
    "li=[0,1,1,0,0,1,0,1,1,0,1,1,1,1] #000111\n",
    "\n",
    "# li1=(li)\n",
    "# print(li1)\n",
    "# # print(li)\n",
    "\n",
    "\n",
    "# num=6\n",
    "new=[]\n",
    "\n",
    "count=0\n",
    "for i in range(len(li)):\n",
    "        if (li[i]==0):\n",
    "            count=count+1\n",
    "            new.append((li[i]))\n",
    "for i in range(len(li)):    \n",
    "    if(li[i]==1):\n",
    "        new.append((li[i]))\n",
    "\n",
    "print(new,\"zero:\",count)"
   ]
  },
  {
   "cell_type": "code",
   "execution_count": 10,
   "metadata": {},
   "outputs": [
    {
     "name": "stdout",
     "output_type": "stream",
     "text": [
      "not a power of 2\n"
     ]
    }
   ],
   "source": [
    "#power of 2\n",
    "n=int(input())\n",
    "i=0\n",
    "while i<=n:\n",
    "    if(2**i==n):\n",
    "        print(\"power of 2\")\n",
    "    else:\n",
    "        print(\"not a power of 2\")\n",
    "        break\n",
    "    i=i+1"
   ]
  },
  {
   "cell_type": "code",
   "execution_count": 13,
   "metadata": {},
   "outputs": [
    {
     "name": "stdout",
     "output_type": "stream",
     "text": [
      "Power of 2\n"
     ]
    }
   ],
   "source": [
    "n = int(input(\"Enter the number\"))\n",
    "\n",
    "if(n&(n-1)==0):\n",
    "    print(\"Power of 2\")\n",
    "else:\n",
    "    print(\"Not power of 2\")"
   ]
  }
 ],
 "metadata": {
  "kernelspec": {
   "display_name": "Python 3",
   "language": "python",
   "name": "python3"
  },
  "language_info": {
   "codemirror_mode": {
    "name": "ipython",
    "version": 3
   },
   "file_extension": ".py",
   "mimetype": "text/x-python",
   "name": "python",
   "nbconvert_exporter": "python",
   "pygments_lexer": "ipython3",
   "version": "3.8.10"
  },
  "orig_nbformat": 4
 },
 "nbformat": 4,
 "nbformat_minor": 2
}
