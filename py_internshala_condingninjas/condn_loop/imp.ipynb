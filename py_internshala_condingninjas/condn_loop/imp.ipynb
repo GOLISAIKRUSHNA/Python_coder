{
 "cells": [
  {
   "cell_type": "code",
   "execution_count": 3,
   "metadata": {},
   "outputs": [
    {
     "name": "stdout",
     "output_type": "stream",
     "text": [
      "1\n",
      "1\n",
      "1\n",
      "1\n"
     ]
    }
   ],
   "source": [
    "#sum of i=1 to i=10 print(1 ) ten times\n",
    "n=int(input())\n",
    "i=1\n",
    "while i<=n:\n",
    "    print(1)\n",
    "    i+=1\n"
   ]
  },
  {
   "cell_type": "code",
   "execution_count": 6,
   "metadata": {},
   "outputs": [
    {
     "name": "stdout",
     "output_type": "stream",
     "text": [
      "55\n"
     ]
    }
   ],
   "source": [
    "#sum of n number:\n",
    "n=int(input())\n",
    "sum=0\n",
    "i=1\n",
    "while i<=n:\n",
    "    sum +=i\n",
    "    i=i+1\n",
    "print(sum)"
   ]
  },
  {
   "cell_type": "code",
   "execution_count": 11,
   "metadata": {},
   "outputs": [
    {
     "name": "stdout",
     "output_type": "stream",
     "text": [
      "0\n",
      "1\n",
      "3\n",
      "6\n",
      "10\n",
      "15\n",
      "21\n",
      "28\n",
      "36\n",
      "45\n",
      "55\n"
     ]
    }
   ],
   "source": [
    "#sum of all natural number:\n",
    "n=int(input())\n",
    "i=0\n",
    "sum=0\n",
    "while i<=n:\n",
    "    sum=sum+i\n",
    "    i=i+1\n",
    "    print(sum)"
   ]
  },
  {
   "cell_type": "code",
   "execution_count": 14,
   "metadata": {},
   "outputs": [
    {
     "name": "stdout",
     "output_type": "stream",
     "text": [
      "through iteration 2\n",
      "through iteration 4\n",
      "through iteration 6\n",
      "through iteration 8\n",
      "through iteration 10\n",
      "through iteration 12\n",
      "30\n"
     ]
    }
   ],
   "source": [
    "#sum of even no:\n",
    "n=int(input())\n",
    "i=0\n",
    "sum=0\n",
    "while i<=n:\n",
    "    sum=sum+i\n",
    "    i=i+2\n",
    "    print(i)\n",
    "print(sum)"
   ]
  },
  {
   "cell_type": "code",
   "execution_count": 32,
   "metadata": {},
   "outputs": [
    {
     "name": "stdout",
     "output_type": "stream",
     "text": [
      "17 prime\n"
     ]
    }
   ],
   "source": [
    "#prime number\n",
    "#1 and itself  1,5\n",
    "\n",
    "n=int(input())\n",
    "div=2\n",
    "flag=1\n",
    "\n",
    "if div<n:\n",
    "    for div in range(div,n-1):\n",
    "        if n%div==0:\n",
    "            flag=0\n",
    "if flag==0:\n",
    "    print(n,\" not prime\")\n",
    "else:\n",
    "    print(n,\"prime\")\n",
    "\n"
   ]
  },
  {
   "cell_type": "code",
   "execution_count": 47,
   "metadata": {},
   "outputs": [
    {
     "name": "stdout",
     "output_type": "stream",
     "text": [
      "not prime\n"
     ]
    }
   ],
   "source": [
    "n=int(input())\n",
    "div=2\n",
    "flag=1\n",
    "if div<n:\n",
    "    for div in range(div,n-1):\n",
    "        if n%div==0:\n",
    "            flag=0\n",
    "            \n",
    "if flag==0:\n",
    "    print(\"not prime\")\n",
    "else:\n",
    "    print(\"prime\")"
   ]
  },
  {
   "cell_type": "code",
   "execution_count": 56,
   "metadata": {},
   "outputs": [
    {
     "name": "stdout",
     "output_type": "stream",
     "text": [
      "not prime\n",
      "not prime\n"
     ]
    }
   ],
   "source": [
    "#prime no \n",
    "n=int(input())\n",
    "d=2\n",
    "flag=1\n",
    "while d<n:\n",
    "    if (n%d==0):\n",
    "        flag=0\n",
    "        print(\"not prime\")\n",
    "    d=d+1 #loop should be outside\n",
    "\n"
   ]
  },
  {
   "cell_type": "code",
   "execution_count": 69,
   "metadata": {},
   "outputs": [
    {
     "ename": "KeyboardInterrupt",
     "evalue": "",
     "output_type": "error",
     "traceback": [
      "\u001b[0;31m---------------------------------------------------------------------------\u001b[0m",
      "\u001b[0;31mKeyboardInterrupt\u001b[0m                         Traceback (most recent call last)",
      "Cell \u001b[0;32mIn[69], line 6\u001b[0m\n\u001b[1;32m      4\u001b[0m flag\u001b[39m=\u001b[39m\u001b[39m1\u001b[39m\n\u001b[1;32m      5\u001b[0m \u001b[39mwhile\u001b[39;00m d\u001b[39m<\u001b[39mn:\n\u001b[0;32m----> 6\u001b[0m     \u001b[39mif\u001b[39;00m (n\u001b[39m%\u001b[39;49md\u001b[39m==\u001b[39;49m\u001b[39m0\u001b[39;49m):\n\u001b[1;32m      7\u001b[0m         flag\u001b[39m=\u001b[39m\u001b[39m0\u001b[39m  \n\u001b[1;32m      8\u001b[0m         d\u001b[39m=\u001b[39md\u001b[39m+\u001b[39m\u001b[39m1\u001b[39m \u001b[39m#loop should be outside\u001b[39;00m\n",
      "\u001b[0;31mKeyboardInterrupt\u001b[0m: "
     ]
    }
   ],
   "source": [
    "#prime no \n",
    "n=int(input())\n",
    "d=2\n",
    "flag=1\n",
    "while d<n:\n",
    "    if (n%d==0):\n",
    "        flag=0  \n",
    "    d=d+1 #loop should be outside\n",
    "if flag==0:\n",
    "    print(\"not prime\")\n",
    "else:\n",
    "    print(\"prime\")\n"
   ]
  },
  {
   "cell_type": "code",
   "execution_count": 67,
   "metadata": {},
   "outputs": [
    {
     "name": "stdout",
     "output_type": "stream",
     "text": [
      "0\n",
      "1\n",
      "2\n",
      "3\n",
      "4\n",
      "5\n",
      "6\n",
      "7\n",
      "8\n",
      "9\n"
     ]
    }
   ],
   "source": [
    "i=0\n",
    "while i<10:\n",
    "    print(i)\n",
    "    i=i+1"
   ]
  },
  {
   "cell_type": "code",
   "execution_count": 99,
   "metadata": {},
   "outputs": [
    {
     "name": "stdout",
     "output_type": "stream",
     "text": [
      "2 prime\n",
      "3 prime\n",
      "4 prime\n",
      "5 prime\n",
      "6 prime\n",
      "7 prime\n",
      "8 prime\n",
      "9 prime\n",
      "10 prime\n"
     ]
    }
   ],
   "source": [
    "#print prime form 2 to n\n",
    "                           # 10   2,3,5,7\n",
    "n=int(input())\n",
    "\n",
    "k=2\n",
    "\n",
    "while k<=n:  #2 to 10\n",
    "    div=2\n",
    "    flag=False\n",
    "    while div<k:   #3 to 9\n",
    "        if (k%div==0):\n",
    "            flag=True\n",
    "        div=div+1\n",
    "    if not(flag):\n",
    "        print(k,\"prime\")\n",
    "    k=k+1\n"
   ]
  },
  {
   "attachments": {},
   "cell_type": "markdown",
   "metadata": {},
   "source": [
    "### fah to cel\n",
    "\n"
   ]
  },
  {
   "cell_type": "code",
   "execution_count": 98,
   "metadata": {},
   "outputs": [
    {
     "name": "stdout",
     "output_type": "stream",
     "text": [
      "20 -7\n",
      "33 0\n",
      "46 7\n",
      "59 15\n",
      "72 22\n",
      "85 29\n",
      "98 36\n",
      "111 43\n"
     ]
    }
   ],
   "source": [
    "S=int(input())\n",
    "E=int(input())\n",
    "step=int(input())\n",
    "while S<=E:\n",
    "    cel=((S-32)*5)//9\n",
    "\n",
    "    print(S,cel)\n",
    "    S=S + step"
   ]
  },
  {
   "cell_type": "code",
   "execution_count": null,
   "metadata": {},
   "outputs": [],
   "source": []
  },
  {
   "cell_type": "markdown",
   "metadata": {},
   "source": []
  },
  {
   "cell_type": "markdown",
   "metadata": {},
   "source": []
  }
 ],
 "metadata": {
  "kernelspec": {
   "display_name": "Python 3",
   "language": "python",
   "name": "python3"
  },
  "language_info": {
   "codemirror_mode": {
    "name": "ipython",
    "version": 3
   },
   "file_extension": ".py",
   "mimetype": "text/x-python",
   "name": "python",
   "nbconvert_exporter": "python",
   "pygments_lexer": "ipython3",
   "version": "3.8.10"
  },
  "orig_nbformat": 4
 },
 "nbformat": 4,
 "nbformat_minor": 2
}
