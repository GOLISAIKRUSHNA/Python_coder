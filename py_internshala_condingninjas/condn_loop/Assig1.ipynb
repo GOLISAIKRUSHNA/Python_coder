{
 "cells": [
  {
   "cell_type": "code",
   "execution_count": 1,
   "metadata": {},
   "outputs": [
    {
     "name": "stdout",
     "output_type": "stream",
     "text": [
      "-1\n"
     ]
    }
   ],
   "source": [
    "#simple calculator\n",
    "\n",
    "s=int(input(\"enter the s\"))\n",
    "\n",
    "while s !=6:\n",
    "    if 1<=s<=5:\n",
    "        a=int(input(\"enter the a\"))\n",
    "        b=int(input(\"enter the b\"))\n",
    "    \n",
    "    if s==1:\n",
    "        print(a+b)\n",
    "        print(\"reenter the search no:\",s)\n",
    "        break\n",
    "    if s==2:\n",
    "        print(a-b)\n",
    "        break\n",
    "    if s==3:\n",
    "        print(a/b)\n",
    "        break\n",
    "    if s==4:\n",
    "        print(a*b)\n",
    "        break\n",
    "    if s==5:\n",
    "        print(a%b)\n",
    "        break\n",
    "    else:\n",
    "        exit\n",
    "        print(\"invalid\")\n",
    "\n",
    "   \n",
    "    "
   ]
  },
  {
   "cell_type": "code",
   "execution_count": null,
   "metadata": {},
   "outputs": [],
   "source": []
  },
  {
   "cell_type": "code",
   "execution_count": null,
   "metadata": {},
   "outputs": [],
   "source": []
  }
 ],
 "metadata": {
  "kernelspec": {
   "display_name": "Python 3",
   "language": "python",
   "name": "python3"
  },
  "language_info": {
   "codemirror_mode": {
    "name": "ipython",
    "version": 3
   },
   "file_extension": ".py",
   "mimetype": "text/x-python",
   "name": "python",
   "nbconvert_exporter": "python",
   "pygments_lexer": "ipython3",
   "version": "3.8.10"
  },
  "orig_nbformat": 4
 },
 "nbformat": 4,
 "nbformat_minor": 2
}
