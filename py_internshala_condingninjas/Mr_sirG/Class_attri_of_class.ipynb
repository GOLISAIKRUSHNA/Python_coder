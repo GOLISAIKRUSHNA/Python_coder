{
 "cells": [
  {
   "cell_type": "code",
   "execution_count": 5,
   "metadata": {},
   "outputs": [
    {
     "name": "stdout",
     "output_type": "stream",
     "text": [
      "{'__module__': '__main__', 'name': 'Aditya', 'Gender': 'male', '__dict__': <attribute '__dict__' of 'student' objects>, '__weakref__': <attribute '__weakref__' of 'student' objects>, '__doc__': None}\n",
      "{}\n",
      "Aditya\n"
     ]
    }
   ],
   "source": [
    "class student:\n",
    "    name=\"Aditya\"\n",
    "    Gender=\"male\"\n",
    "    pass\n",
    "\n",
    "s1=student()\n",
    "s2=student()\n",
    "\n",
    "print(student.__dict__)\n",
    "print(s1.__dict__)\n",
    "\n",
    "print(s1.name)\n",
    "\n"
   ]
  },
  {
   "cell_type": "code",
   "execution_count": 13,
   "metadata": {},
   "outputs": [
    {
     "name": "stdout",
     "output_type": "stream",
     "text": [
      "adi\n",
      "shyam\n",
      "adi\n"
     ]
    }
   ],
   "source": [
    "student.name=\"adi\"\n",
    "\n",
    "print(student.name)\n",
    "print(s1.name)\n",
    "print(s2.name)\n",
    "\n",
    "\n",
    "\n"
   ]
  },
  {
   "cell_type": "code",
   "execution_count": 14,
   "metadata": {},
   "outputs": [
    {
     "name": "stdout",
     "output_type": "stream",
     "text": [
      "adi\n",
      "shyam\n",
      "adi\n"
     ]
    }
   ],
   "source": [
    "s1.name=\"shyam\"\n",
    "print(student.name)\n",
    "print(s1.name)\n",
    "print(s2.name)"
   ]
  },
  {
   "cell_type": "code",
   "execution_count": null,
   "metadata": {},
   "outputs": [],
   "source": []
  }
 ],
 "metadata": {
  "kernelspec": {
   "display_name": "Python 3",
   "language": "python",
   "name": "python3"
  },
  "language_info": {
   "codemirror_mode": {
    "name": "ipython",
    "version": 3
   },
   "file_extension": ".py",
   "mimetype": "text/x-python",
   "name": "python",
   "nbconvert_exporter": "python",
   "pygments_lexer": "ipython3",
   "version": "3.8.10"
  },
  "orig_nbformat": 4
 },
 "nbformat": 4,
 "nbformat_minor": 2
}
