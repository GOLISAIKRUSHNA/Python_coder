{
 "cells": [
  {
   "cell_type": "code",
   "execution_count": 21,
   "metadata": {},
   "outputs": [
    {
     "name": "stdout",
     "output_type": "stream",
     "text": [
      "student class\n",
      "<__main__.Student object at 0x7f0ecd6db940> <__main__.Student object at 0x7f0ecd7846a0>\n"
     ]
    }
   ],
   "source": [
    "\n",
    "#class\n",
    "class Student:\n",
    "    print(\"student class\")\n",
    "    pass\n",
    "\n",
    "s1=Student()\n",
    "s2=Student()\n",
    "print(s1,s2)"
   ]
  },
  {
   "cell_type": "code",
   "execution_count": 22,
   "metadata": {},
   "outputs": [
    {
     "name": "stdout",
     "output_type": "stream",
     "text": [
      "student class\n",
      "[]\n",
      "<class 'list'>\n",
      "{'roll': 32}\n"
     ]
    }
   ],
   "source": [
    "#instance attribute\n",
    "\n",
    "#class and objects intance method s1,s2 are objects\n",
    "class Student:\n",
    "    print(\"student class\")\n",
    "    name=\"goli\"\n",
    "    pass\n",
    "\n",
    "s1=Student()\n",
    "s2=Student()\n",
    "s1.name=\"sai\"\n",
    "s2.rollno=32\n",
    "l=list()\n",
    "print(l)\n",
    "print(type(l))   #its is a class list having the l is the object of class L\n",
    "hasattr(s1,\"name\")\n",
    "hasattr(s2,\"rollno\")  #if the s2 instance is not having an attribute then it will class instance \n",
    "\n",
    "\n",
    "getattr(s1,\"name\")\n",
    "setattr(s1,\"roll\",32)\n",
    "delattr(s1,\"name\")\n",
    "print(s1.__dict__)"
   ]
  },
  {
   "cell_type": "code",
   "execution_count": 23,
   "metadata": {},
   "outputs": [
    {
     "name": "stdout",
     "output_type": "stream",
     "text": [
      "student class\n",
      "[]\n",
      "<__main__.Student object at 0x7f0edc255100> <__main__.Student object at 0x7f0edc165850>\n"
     ]
    }
   ],
   "source": [
    "\n",
    "#class and objects s1,s2 are objects\n",
    "class Student:\n",
    "    print(\"student class\")\n",
    "    pass\n",
    "\n",
    "s1=Student()\n",
    "l=list()\n",
    "print(l)\n",
    "s2=Student()\n",
    "print(s1,s2)\n",
    "\n",
    "\n"
   ]
  },
  {
   "cell_type": "code",
   "execution_count": 24,
   "metadata": {},
   "outputs": [
    {
     "name": "stdout",
     "output_type": "stream",
     "text": [
      "student class\n",
      "sai <__main__.Student object at 0x7f0eded94bb0>\n",
      "goli\n",
      "{}\n",
      "{'name': 'sai'}\n",
      "{'rollno': 32, 'new': 'hiii'}\n"
     ]
    }
   ],
   "source": [
    "\n",
    "#class and objects intance method s1,s2 are objects\n",
    "class Student:\n",
    "    print(\"student class\")\n",
    "    name=\"goli\"\n",
    "    pass\n",
    "\n",
    "s1=Student()\n",
    "s2=Student()\n",
    "\n",
    "s1.name=\"sai\"\n",
    "s2.rollno=32\n",
    "s2.new=\"hiii\"\n",
    "# l=list()\n",
    "# print(l)\n",
    "\n",
    "print(s1.name ,s2)\n",
    "print(s2.name)   #if the s2 instance is not having an attribute then it will class instance \n",
    "print(Student().__dict__)\n",
    "print(s1.__dict__)\n",
    "print(s2.__dict__)\n",
    "\n"
   ]
  },
  {
   "cell_type": "code",
   "execution_count": null,
   "metadata": {},
   "outputs": [],
   "source": []
  },
  {
   "cell_type": "code",
   "execution_count": 25,
   "metadata": {},
   "outputs": [
    {
     "name": "stdout",
     "output_type": "stream",
     "text": [
      "student class\n",
      "goli <__main__.Student object at 0x7f0edc165850>\n",
      "goli\n"
     ]
    }
   ],
   "source": [
    "\n",
    "# instance method s1,s2 are objects\n",
    "class Student:\n",
    "    print(\"student class\")\n",
    "    name=\"goli\"\n",
    "    s1.name=\"sai\"\n",
    "    s2.rollno=32\n",
    "    pass\n",
    "\n",
    "s1=Student()\n",
    "\n",
    "s2=Student()\n",
    "print(s1.name ,s2)\n",
    "print(s2.name)   #if the s2 instance is not having an attribute then it will class instance \n"
   ]
  }
 ],
 "metadata": {
  "kernelspec": {
   "display_name": "Python 3",
   "language": "python",
   "name": "python3"
  },
  "language_info": {
   "codemirror_mode": {
    "name": "ipython",
    "version": 3
   },
   "file_extension": ".py",
   "mimetype": "text/x-python",
   "name": "python",
   "nbconvert_exporter": "python",
   "pygments_lexer": "ipython3",
   "version": "3.8.10"
  },
  "orig_nbformat": 4
 },
 "nbformat": 4,
 "nbformat_minor": 2
}
