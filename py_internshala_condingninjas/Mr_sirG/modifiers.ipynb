{
 "cells": [
  {
   "cell_type": "code",
   "execution_count": 19,
   "metadata": {},
   "outputs": [
    {
     "name": "stdout",
     "output_type": "stream",
     "text": [
      "goli\n",
      "100 32\n",
      "goli\n"
     ]
    }
   ],
   "source": [
    "class Hii:\n",
    "    total=20\n",
    "    inclass=\"hiii\"\n",
    "\n",
    "    def __init__(self,name,age,roll):\n",
    "        self.__name=name   #private var\n",
    "        self.age=age\n",
    "        self.roll=roll\n",
    "\n",
    "    def hiii(self):    #we can access the through function of same class\n",
    "        return self.__name\n",
    "\n",
    "s1=Hii(\"goli\",100,32)\n",
    "\n",
    "\n",
    "print(s1.age,s1.roll)\n",
    "print(s1.hiii())"
   ]
  },
  {
   "cell_type": "code",
   "execution_count": 11,
   "metadata": {},
   "outputs": [
    {
     "name": "stdout",
     "output_type": "stream",
     "text": [
      "1\n"
     ]
    }
   ],
   "source": [
    "class A:\n",
    "    def __init__(self) :\n",
    "        self.x=1\n",
    "        self.__y=1\n",
    "\n",
    "    def getf(self):\n",
    "        return self.__y\n",
    "    \n",
    "\n",
    "hii=A()\n",
    "\n",
    "print(hii.getf())"
   ]
  }
 ],
 "metadata": {
  "kernelspec": {
   "display_name": "Python 3",
   "language": "python",
   "name": "python3"
  },
  "language_info": {
   "codemirror_mode": {
    "name": "ipython",
    "version": 3
   },
   "file_extension": ".py",
   "mimetype": "text/x-python",
   "name": "python",
   "nbconvert_exporter": "python",
   "pygments_lexer": "ipython3",
   "version": "3.8.10"
  },
  "orig_nbformat": 4
 },
 "nbformat": 4,
 "nbformat_minor": 2
}
