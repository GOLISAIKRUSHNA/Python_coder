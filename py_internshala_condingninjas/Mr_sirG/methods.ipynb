{
 "cells": [
  {
   "cell_type": "code",
   "execution_count": 37,
   "metadata": {},
   "outputs": [
    {
     "ename": "TypeError",
     "evalue": "hello() takes 0 positional arguments but 1 was given",
     "output_type": "error",
     "traceback": [
      "\u001b[0;31m---------------------------------------------------------------------------\u001b[0m",
      "\u001b[0;31mTypeError\u001b[0m                                 Traceback (most recent call last)",
      "Cell \u001b[0;32mIn[37], line 13\u001b[0m\n\u001b[1;32m     10\u001b[0m s1\u001b[39m=\u001b[39mstudent()\n\u001b[1;32m     11\u001b[0m s2\u001b[39m=\u001b[39mstudent()\n\u001b[0;32m---> 13\u001b[0m s1\u001b[39m.\u001b[39;49mhello() \n\u001b[1;32m     14\u001b[0m student\u001b[39m.\u001b[39mhello(s1)\n",
      "\u001b[0;31mTypeError\u001b[0m: hello() takes 0 positional arguments but 1 was given"
     ]
    }
   ],
   "source": [
    "#with self ,it is used in the when object is created  #student.hello(s1)\n",
    "class student:\n",
    "    #class attri\n",
    "    total=23\n",
    "    classteacher=23\n",
    "    #instance method\n",
    "    def hello(self):\n",
    "        print(\"hello bro\")\n",
    "    \n",
    "s1=student()\n",
    "s2=student()\n",
    "\n",
    "s1.hello() \n",
    "student.hello(s1)\n",
    "\n"
   ]
  },
  {
   "cell_type": "code",
   "execution_count": 29,
   "metadata": {},
   "outputs": [
    {
     "name": "stdout",
     "output_type": "stream",
     "text": [
      "hello bro\n"
     ]
    }
   ],
   "source": [
    "                   \n",
    "s1.hello()  #when we create  object and called the s1 object then self compulsory in class\n",
    "\n",
    "#student.hello(s1) this is self\n",
    "\n"
   ]
  },
  {
   "cell_type": "code",
   "execution_count": 47,
   "metadata": {},
   "outputs": [
    {
     "name": "stdout",
     "output_type": "stream",
     "text": [
      "hello bro\n"
     ]
    },
    {
     "data": {
      "text/plain": [
       "23"
      ]
     },
     "execution_count": 47,
     "metadata": {},
     "output_type": "execute_result"
    }
   ],
   "source": [
    "#without self\n",
    "class student:\n",
    "    #class attri\n",
    "    total=23\n",
    "    classteacher=23\n",
    "    #instance method\n",
    "    def hello():\n",
    "        print(\"hello bro\")\n",
    "    \n",
    "s1=student()\n",
    "s2=student()\n",
    "\n",
    "\n",
    "\n",
    "\n",
    "\n",
    "student.hello()      #not required self un class and call the class attri\n",
    "student.total"
   ]
  },
  {
   "cell_type": "code",
   "execution_count": 41,
   "metadata": {},
   "outputs": [
    {
     "name": "stdout",
     "output_type": "stream",
     "text": [
      "goli\n",
      "sai\n"
     ]
    }
   ],
   "source": [
    "class student:\n",
    "    #class attri\n",
    "    total=23\n",
    "    classteacher=23\n",
    "    #instance method\n",
    "    def hello(self):\n",
    "        name=\"goli\"\n",
    "        print(name)\n",
    "        print(self.name)\n",
    "    \n",
    "s1=student()\n",
    "s2=student()\n",
    "\n",
    "s1.name=\"sai\"\n",
    "s1.hello()"
   ]
  },
  {
   "cell_type": "code",
   "execution_count": 46,
   "metadata": {},
   "outputs": [
    {
     "name": "stdout",
     "output_type": "stream",
     "text": [
      "goli\n",
      "23\n",
      "purushottam\n"
     ]
    }
   ],
   "source": [
    "class student:\n",
    "    #class attri\n",
    "    total=23\n",
    "    classteacher=23\n",
    "    #instance method\n",
    "    def hello(self):\n",
    "        name=\"goli\"\n",
    "        print(name)\n",
    "        print(self.total)\n",
    "        print(s2.name)\n",
    "    \n",
    "    \n",
    "s1=student()\n",
    "s2=student()\n",
    "s2.name=\"purushottam\"\n",
    "s1.hello()"
   ]
  },
  {
   "cell_type": "code",
   "execution_count": 53,
   "metadata": {},
   "outputs": [
    {
     "name": "stdout",
     "output_type": "stream",
     "text": [
      "6\n",
      "<__main__.change object at 0x7fbd45c7cca0>\n",
      "<__main__.change object at 0x7fbd45c7cca0>\n",
      "6\n",
      "<__main__.change object at 0x7fbd45c7cca0>\n",
      "7\n"
     ]
    }
   ],
   "source": [
    "class change:\n",
    "    def __init__(self,x,y,z):\n",
    "        self.a=x+y+z\n",
    "        print(self.a)\n",
    "        \n",
    "\n",
    "x=change(1,2,3)\n",
    "print(x)\n",
    "y=getattr(x,'a')\n",
    "print(x)\n",
    "print(y)\n",
    "\n",
    "\n",
    "setattr(x,\"a\",y+1)\n",
    "print(x)\n",
    "print(x.a)\n"
   ]
  },
  {
   "cell_type": "code",
   "execution_count": 54,
   "metadata": {},
   "outputs": [
    {
     "name": "stdout",
     "output_type": "stream",
     "text": [
      "rohan\n",
      "20\n"
     ]
    }
   ],
   "source": [
    "class student:\n",
    "    def __init__(self,name,age):\n",
    "        self.name=\"rohan\"\n",
    "        self.age=20\n",
    "\n",
    "\n",
    "    def printing(self):\n",
    "        print(self.name)\n",
    "        print(self.age)\n",
    "    \n",
    "s=student(\"hii\",14)\n",
    "s.printing()"
   ]
  }
 ],
 "metadata": {
  "kernelspec": {
   "display_name": "Python 3",
   "language": "python",
   "name": "python3"
  },
  "language_info": {
   "codemirror_mode": {
    "name": "ipython",
    "version": 3
   },
   "file_extension": ".py",
   "mimetype": "text/x-python",
   "name": "python",
   "nbconvert_exporter": "python",
   "pygments_lexer": "ipython3",
   "version": "3.8.10"
  },
  "orig_nbformat": 4
 },
 "nbformat": 4,
 "nbformat_minor": 2
}
