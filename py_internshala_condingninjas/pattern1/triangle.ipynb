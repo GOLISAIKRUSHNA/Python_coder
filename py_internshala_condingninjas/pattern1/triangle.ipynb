{
 "cells": [
  {
   "cell_type": "code",
   "execution_count": 3,
   "metadata": {},
   "outputs": [
    {
     "name": "stdout",
     "output_type": "stream",
     "text": [
      "1\n",
      "12\n",
      "123\n",
      "1234\n"
     ]
    }
   ],
   "source": [
    "#triangle\n",
    "# 1\n",
    "# 12\n",
    "# 123\n",
    "# 1234\n",
    "\n",
    "n=int(input())\n",
    "i=1\n",
    "while i<=n:\n",
    "    j=1\n",
    "    while j<=i:\n",
    "        print(j,end=\"\")\n",
    "        j=j+1\n",
    "    print()\n",
    "    i=i+1\n"
   ]
  },
  {
   "cell_type": "code",
   "execution_count": 4,
   "metadata": {},
   "outputs": [
    {
     "name": "stdout",
     "output_type": "stream",
     "text": [
      "1\n",
      "22\n",
      "333\n",
      "4444\n"
     ]
    }
   ],
   "source": [
    "#triangle\n",
    "# 1\n",
    "# 22\n",
    "# 333\n",
    "# 4444\n",
    "\n",
    "n=int(input())\n",
    "i=1\n",
    "while i<=n:\n",
    "    j=1\n",
    "    while j<=i:\n",
    "        print(i,end=\"\")\n",
    "        j=j+1\n",
    "    print()\n",
    "    i=i+1\n"
   ]
  },
  {
   "cell_type": "code",
   "execution_count": 5,
   "metadata": {},
   "outputs": [
    {
     "name": "stdout",
     "output_type": "stream",
     "text": [
      "1\n",
      "23\n",
      "345\n",
      "4567\n"
     ]
    }
   ],
   "source": [
    "#triangle\n",
    "\n",
    "1\n",
    "23\n",
    "345\n",
    "4567\n",
    "\n",
    "\n",
    "n=int(input())\n",
    "i=1\n",
    "\n",
    "while i<=n:\n",
    "    p=i\n",
    "    j=1\n",
    "    while j<=i:\n",
    "        print(p,end=\"\")\n",
    "        p=p+1\n",
    "        j=j+1\n",
    "    print()\n",
    "    i=i+1"
   ]
  },
  {
   "cell_type": "code",
   "execution_count": 6,
   "metadata": {},
   "outputs": [
    {
     "name": "stdout",
     "output_type": "stream",
     "text": [
      "1\n",
      "23\n",
      "456\n",
      "78910\n"
     ]
    }
   ],
   "source": [
    "# triangle type\n",
    "# 1\n",
    "# 23\n",
    "# 456\n",
    "# 78910\n",
    "\n",
    "n=int(input())\n",
    "i=1\n",
    "N=1\n",
    "while i<=n:\n",
    "    j=1\n",
    "    while j<=i:\n",
    "        print(N,end=\"\")\n",
    "        N=N+1\n",
    "        j=j+1\n",
    "    print()\n",
    "    i=i+1"
   ]
  },
  {
   "cell_type": "code",
   "execution_count": 9,
   "metadata": {},
   "outputs": [
    {
     "name": "stdout",
     "output_type": "stream",
     "text": [
      "A\n",
      "BC\n",
      "DEF\n",
      "GHIJ\n"
     ]
    }
   ],
   "source": [
    "#char triangle\n",
    "\n",
    "# A\n",
    "# BC\n",
    "# DEF\n",
    "# GHIJ\n",
    "\n",
    "n=int(input())\n",
    "i=1\n",
    "N=65\n",
    "while i<=n:\n",
    "    j=1\n",
    "    while j<=i:\n",
    "        print(chr(N),end=\"\")\n",
    "        N=N+1\n",
    "        j=j+1\n",
    "    print()\n",
    "    i=i+1\n",
    "\n",
    "\n"
   ]
  },
  {
   "cell_type": "code",
   "execution_count": 12,
   "metadata": {},
   "outputs": [
    {
     "name": "stdout",
     "output_type": "stream",
     "text": [
      "A\n",
      "BC\n",
      "CDE\n",
      "DEFG\n",
      "EFGHI\n",
      "FGHIJK\n",
      "GHIJKLM\n",
      "HIJKLMNO\n",
      "IJKLMNOPQ\n"
     ]
    }
   ],
   "source": [
    "#char triangle\n",
    "\n",
    "# A\n",
    "# BC\n",
    "# CDE\n",
    "# DEFG\n",
    "\n",
    "\n",
    "n=int(input())\n",
    "i=1\n",
    "while i<=n:\n",
    "    N=ord('A')+i-1\n",
    "    j=1\n",
    "    while j<=i:\n",
    "        print(chr(N),end=\"\")\n",
    "        N=N+1\n",
    "        j=j+1\n",
    "    print()\n",
    "    i=i+1"
   ]
  },
  {
   "cell_type": "code",
   "execution_count": 20,
   "metadata": {},
   "outputs": [
    {
     "name": "stdout",
     "output_type": "stream",
     "text": [
      "D\n",
      "DC\n",
      "DCB\n",
      "DCBA\n"
     ]
    }
   ],
   "source": [
    "#IF N=5\n",
    "\n",
    "# E\n",
    "# DE\n",
    "# CDE\n",
    "# BCDE\n",
    "# ABCDE\n",
    "\n",
    "\n",
    "\n",
    "n=int(input())\n",
    "i=1\n",
    "while i<=n:\n",
    "    res=ord('A')+n-1\n",
    "    j=1\n",
    "    while j<=i:\n",
    "        print(chr(res),end=\"\")\n",
    "        res=res-1\n",
    "        j=j+1\n",
    "    print()\n",
    "    i=i+1\n"
   ]
  },
  {
   "cell_type": "code",
   "execution_count": 25,
   "metadata": {},
   "outputs": [
    {
     "name": "stdout",
     "output_type": "stream",
     "text": [
      "A\n",
      "BA\n",
      "CBA\n",
      "DCBA\n"
     ]
    }
   ],
   "source": [
    "#IF N=4\n",
    "\n",
    "\n",
    "# D\n",
    "# CD\n",
    "# BCD\n",
    "# ABCD\n",
    "\n",
    "\n",
    "\n",
    "n=int(input())\n",
    "# p=ord('A')+n-1\n",
    "i=1\n",
    "while i<=n:\n",
    "    j=1\n",
    "    while j<=i:\n",
    "        p=ord('A')+i-1\n",
    "        print(chr(p),end=\"\")\n",
    "        p=p-1\n",
    "        j=j+1\n",
    "    print()\n",
    "    i=i+1\n"
   ]
  },
  {
   "cell_type": "code",
   "execution_count": 56,
   "metadata": {},
   "outputs": [
    {
     "name": "stdout",
     "output_type": "stream",
     "text": [
      "D\n",
      "ED\n",
      "FED\n",
      "GFED\n"
     ]
    }
   ],
   "source": [
    "#IF N=4\n",
    "\n",
    "\n",
    "# D\n",
    "# CD\n",
    "# BCD\n",
    "# ABCD\n",
    "n\n"
   ]
  },
  {
   "cell_type": "code",
   "execution_count": null,
   "metadata": {},
   "outputs": [],
   "source": []
  }
 ],
 "metadata": {
  "kernelspec": {
   "display_name": "Python 3",
   "language": "python",
   "name": "python3"
  },
  "language_info": {
   "codemirror_mode": {
    "name": "ipython",
    "version": 3
   },
   "file_extension": ".py",
   "mimetype": "text/x-python",
   "name": "python",
   "nbconvert_exporter": "python",
   "pygments_lexer": "ipython3",
   "version": "3.8.10"
  },
  "orig_nbformat": 4
 },
 "nbformat": 4,
 "nbformat_minor": 2
}
