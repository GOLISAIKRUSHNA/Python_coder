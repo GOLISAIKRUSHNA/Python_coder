{
 "cells": [
  {
   "cell_type": "code",
   "execution_count": 12,
   "metadata": {},
   "outputs": [
    {
     "name": "stdout",
     "output_type": "stream",
     "text": [
      "word: 2\n",
      "many: 2\n"
     ]
    }
   ],
   "source": [
    "str=\"this is a word string having many many word\"\n",
    "#freq of word and many count\n",
    "li=str.split()\n",
    "count=0\n",
    "m=0\n",
    "for i in li:\n",
    "    if(i==\"word\"):\n",
    "        count=count+1\n",
    "    elif (i==\"many\"):\n",
    "        m=m+1\n",
    "print(\"word:\",count)\n",
    "print(\"many:\",m)\n",
    "\n",
    "\n",
    "\n"
   ]
  },
  {
   "cell_type": "code",
   "execution_count": 22,
   "metadata": {},
   "outputs": [
    {
     "name": "stdout",
     "output_type": "stream",
     "text": [
      "['this', 'is', 'a', 'word', 'string', 'having', 'many', 'many', 'word']\n",
      "word\n",
      "many\n"
     ]
    }
   ],
   "source": [
    "str=\"this is a word string having many many word\"\n",
    "k=2\n",
    "d={}\n",
    "word=str.split()\n",
    "print(word)\n",
    "\n",
    "for w in word:\n",
    "    if w in d:\n",
    "        d[w]=d[w]+1\n",
    "    else:\n",
    "        d[w]=1\n",
    "\n",
    "\n",
    "for w in d:\n",
    "    if d[w]==k:\n",
    "        print(w)\n",
    "\n",
    "\n",
    "\n",
    "\n",
    "\n",
    "\n",
    "\n"
   ]
  }
 ],
 "metadata": {
  "kernelspec": {
   "display_name": "Python 3",
   "language": "python",
   "name": "python3"
  },
  "language_info": {
   "codemirror_mode": {
    "name": "ipython",
    "version": 3
   },
   "file_extension": ".py",
   "mimetype": "text/x-python",
   "name": "python",
   "nbconvert_exporter": "python",
   "pygments_lexer": "ipython3",
   "version": "3.8.10"
  },
  "orig_nbformat": 4
 },
 "nbformat": 4,
 "nbformat_minor": 2
}
