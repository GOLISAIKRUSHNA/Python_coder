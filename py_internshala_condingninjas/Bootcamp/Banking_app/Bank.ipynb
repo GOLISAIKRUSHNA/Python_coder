{
 "cells": [
  {
   "cell_type": "code",
   "execution_count": null,
   "metadata": {},
   "outputs": [],
   "source": [
    "# Banking app\n",
    "# classes\n",
    "# method and properties\n",
    "# while\n",
    "# transaction\n"
   ]
  },
  {
   "cell_type": "code",
   "execution_count": 45,
   "metadata": {},
   "outputs": [
    {
     "name": "stdout",
     "output_type": "stream",
     "text": [
      "Current day: 6 - 12 - 2023 \n",
      "******************************\n",
      "press 1: Balance\n",
      "press 2: Withdraw\n",
      "press 3: Deposit\n",
      "\n"
     ]
    },
    {
     "name": "stdout",
     "output_type": "stream",
     "text": [
      "After,withdrawal sai Your Balance is : 1000\n"
     ]
    }
   ],
   "source": [
    "from datetime import date\n",
    "today = date.today()  \n",
    "  \n",
    "\n",
    "print(f\"Current day:\", today.day,\"-\",today.month,\"-\",today.year,\"\\n******************************\")\n",
    "print\n",
    "\n",
    "class Bank:\n",
    "\n",
    "    def __init__(self,intial =0.00):\n",
    "        self.bal=intial\n",
    "        self.transaction(f'*****************{today.day}/{today.month}/{today.year}***********************')\n",
    "        self.transaction(f'Before transaction balance amount: {self.bal}')\n",
    "\n",
    "    def transaction(self,trans):\n",
    "        with open(\"transaction_history.txt\",'+a') as f:\n",
    "            f.write(f\"{trans} \\n\")\n",
    "\n",
    "    def withdraw(self,amount):\n",
    "        try:\n",
    "            amount=float(amount)\n",
    "        except ValueError:\n",
    "            amount=0\n",
    "        if amount:\n",
    "            self.bal=self.bal-amount\n",
    "            self.transaction(f\"withdrew amount :{amount} and New Balance Amount :{self.bal}\")\n",
    "\n",
    "\n",
    "    def deposit(self,dep):\n",
    "        try:\n",
    "            dep=float(dep)\n",
    "        except ValueError:\n",
    "            dep=0\n",
    "        if dep:\n",
    "            self.bal=self.bal+dep\n",
    "            self.transaction(f\"Deposit amount :{dep} and New Balance Amount :{self.bal}\")\n",
    "\n",
    "\n",
    "    def totalbal(self):\n",
    "        total=self.bal\n",
    "        self.transaction(f'Available amount : {total}')\n",
    "\n",
    "\n",
    "\n",
    "acc=Bank(1000)  #object\n",
    "\n",
    "while True:\n",
    "    \n",
    "    print(f\"press 1: Balance\\npress 2: Withdraw\\npress 3: Deposit\\n\" )\n",
    "    try:\n",
    "        action=input(\"Press 1 or Press 2 or Press 3\")\n",
    "    except Exception as e:\n",
    "        print(type(e))\n",
    "    if action  in [\"1\",'2',\"3\"]:\n",
    "        if action == '1':\n",
    "            acc.bal\n",
    "            print(acc.bal)\n",
    "        elif action=='2':\n",
    "            amt=input(\"enter the amount to withdraw:\")\n",
    "            acc.withdraw(amt)\n",
    "            print(f\"After,withdrawal amount {amt} Your Balance is :\",acc.bal)\n",
    "        elif action=='3':\n",
    "            dept=input(\"enter the amount to Deposit:\")\n",
    "            acc.deposit(dept)\n",
    "            print(f\"After,Deposited amount {dept} Your Balance is :\",acc.bal)\n",
    "        break\n",
    "    else:\n",
    "        print(\"Leaving Atm, Visit Again..\")\n",
    "        break\n",
    "    \n",
    "\n",
    "  \n",
    "\n",
    "\n",
    "# print(\"intial bal:\",acc.bal)\n",
    "# acc.deposit(50)\n",
    "# print(\"After depo bal:\",acc.bal)\n",
    "# acc.withdraw(10)\n",
    "# print(\"After withdraw bal:\",acc.bal)\n",
    "# acc.totalbal()\n",
    "# print(\"Available amount:\",acc.bal)\n",
    "\n",
    "\n",
    "\n",
    "\n",
    "\n",
    "      "
   ]
  }
 ],
 "metadata": {
  "kernelspec": {
   "display_name": "Python 3",
   "language": "python",
   "name": "python3"
  },
  "language_info": {
   "codemirror_mode": {
    "name": "ipython",
    "version": 3
   },
   "file_extension": ".py",
   "mimetype": "text/x-python",
   "name": "python",
   "nbconvert_exporter": "python",
   "pygments_lexer": "ipython3",
   "version": "3.8.10"
  },
  "orig_nbformat": 4
 },
 "nbformat": 4,
 "nbformat_minor": 2
}
