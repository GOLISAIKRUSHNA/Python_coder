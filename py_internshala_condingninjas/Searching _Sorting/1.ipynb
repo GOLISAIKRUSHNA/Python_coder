{
 "cells": [
  {
   "cell_type": "code",
   "execution_count": null,
   "metadata": {},
   "outputs": [],
   "source": [
    "#linear Search\n",
    "ele=int(input())\n",
    "li=[1,2,3,4,5]\n",
    "\n",
    "for i in range(len(li)):\n",
    "    if((li[i])==ele):\n",
    "        print(\"index\",i,\"element:\",ele)\n",
    "       \n"
   ]
  },
  {
   "cell_type": "code",
   "execution_count": 70,
   "metadata": {},
   "outputs": [
    {
     "name": "stdout",
     "output_type": "stream",
     "text": [
      "(-1, 100)\n"
     ]
    }
   ],
   "source": [
    "#sir binarysearch \n",
    "\n",
    "def binarysearch(arr):\n",
    "    s=0\n",
    "    e=len(arr)-1  #len=5-1=4\n",
    "    element=int(input())\n",
    "    while (s<=e):\n",
    "        mid=(s+e)//2\n",
    "        if(arr[mid]==element):\n",
    "            return mid\n",
    "        elif(arr[mid]<element):\n",
    "            s=mid+1\n",
    "        else:\n",
    "            #arr[mid]>element\n",
    "            e=mid-1\n",
    "\n",
    "    return -1,element\n",
    "\n",
    "arr=[1,4,5,6,7] \n",
    "\n",
    "index=binarysearch(arr)\n",
    "print(index)"
   ]
  },
  {
   "cell_type": "code",
   "execution_count": 3,
   "metadata": {},
   "outputs": [
    {
     "name": "stdout",
     "output_type": "stream",
     "text": [
      "-1\n"
     ]
    }
   ],
   "source": [
    "def binary(arr):\n",
    "    s=0\n",
    "    e=len(arr)-1\n",
    "    n=int(input())\n",
    "    while s<=e:\n",
    "        mid=s+e//2\n",
    "\n",
    "        if(arr[mid]==n):\n",
    "            return mid\n",
    "        elif(arr[mid]<n):\n",
    "            s=mid+1\n",
    "        else:          #arr[mid]>n\n",
    "            e=mid-1\n",
    "\n",
    "    return -1\n",
    "\n",
    "\n",
    "\n",
    "arr=[1,2,3,4]\n",
    "print(binary(arr))"
   ]
  },
  {
   "attachments": {},
   "cell_type": "markdown",
   "metadata": {},
   "source": [
    "#Sorting "
   ]
  },
  {
   "cell_type": "code",
   "execution_count": 4,
   "metadata": {},
   "outputs": [
    {
     "name": "stdout",
     "output_type": "stream",
     "text": [
      "[0, 1, 3, 4]\n"
     ]
    }
   ],
   "source": [
    "\n",
    "#selection sort\n",
    "\n",
    "def selection(arr):\n",
    "    length=len(arr)\n",
    "    for i in range(length):\n",
    "        mini_index=i\n",
    "        for j in range(i+1,length):\n",
    "            if(arr[j]<arr[mini_index]):\n",
    "                mini_index=j\n",
    "                arr[i],arr[mini_index]=arr[mini_index],arr[i]\n",
    "    return arr\n",
    "    \n",
    "arr=[4,3,1,0]\n",
    "print(selection(arr))\n",
    "\n"
   ]
  },
  {
   "cell_type": "code",
   "execution_count": 7,
   "metadata": {},
   "outputs": [
    {
     "name": "stdout",
     "output_type": "stream",
     "text": [
      "iterated: 0\n",
      "iterated: 1\n",
      "iterated: 2\n",
      "iterated: 3\n",
      "iterated: 4\n",
      "iterated: 5\n",
      "[0, 3, 4, 5]\n"
     ]
    }
   ],
   "source": [
    "def selection(arr):\n",
    "    length=len(arr)\n",
    "    count=0\n",
    "    for i in range(length):\n",
    "        \n",
    "        first=i\n",
    "\n",
    "        for j in range(i+1,length):\n",
    "            if(arr[j])<arr[first]:\n",
    "                first=j\n",
    "            arr[i],arr[first]=arr[first],arr[i]\n",
    "            print(\"iterated:\",count)\n",
    "            count += 1\n",
    "    print(arr)\n",
    "\n",
    "arr=[3,4,5,0]\n",
    "selection(arr)"
   ]
  },
  {
   "cell_type": "code",
   "execution_count": 4,
   "metadata": {},
   "outputs": [
    {
     "name": "stdout",
     "output_type": "stream",
     "text": [
      "[8, 5, 4, 5, 74, 89, 99]\n",
      "[4, 5, 5, 8, 74, 89, 99]\n",
      "None\n"
     ]
    }
   ],
   "source": [
    "#bubble\n",
    "\n",
    "\n",
    "def bubble(arr,n):\n",
    "\n",
    "    for i in range(n-1):  #n=6\n",
    "        for j in range(n-i-1):\n",
    "            if(arr[j]>arr[j+1]):\n",
    "                temp=arr[j]\n",
    "                arr[j]=arr[j+1]\n",
    "                arr[j+1]=temp\n",
    "    print(arr)\n",
    "\n",
    "\n",
    "arr=[int(i) for i in input().split()]    #1,2,4,5,6  after r=n-1\n",
    "print(arr)\n",
    "n=int(input())\n",
    "print(bubble(arr,n))"
   ]
  },
  {
   "cell_type": "code",
   "execution_count": null,
   "metadata": {},
   "outputs": [],
   "source": [
    "#insertion  \n",
    "\n"
   ]
  },
  {
   "cell_type": "code",
   "execution_count": null,
   "metadata": {},
   "outputs": [],
   "source": [
    "#merge of 2 array"
   ]
  },
  {
   "cell_type": "markdown",
   "metadata": {},
   "source": []
  }
 ],
 "metadata": {
  "kernelspec": {
   "display_name": "Python 3",
   "language": "python",
   "name": "python3"
  },
  "language_info": {
   "codemirror_mode": {
    "name": "ipython",
    "version": 3
   },
   "file_extension": ".py",
   "mimetype": "text/x-python",
   "name": "python",
   "nbconvert_exporter": "python",
   "pygments_lexer": "ipython3",
   "version": "3.8.10"
  },
  "orig_nbformat": 4
 },
 "nbformat": 4,
 "nbformat_minor": 2
}
