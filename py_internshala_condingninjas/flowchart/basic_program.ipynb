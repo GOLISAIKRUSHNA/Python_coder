{
 "cells": [
  {
   "cell_type": "code",
   "execution_count": 6,
   "metadata": {},
   "outputs": [
    {
     "name": "stdout",
     "output_type": "stream",
     "text": [
      "24\n"
     ]
    }
   ],
   "source": [
    "#fact\n",
    "n=1\n",
    "N=int(input())\n",
    "for N in range(1,N+1):\n",
    "    n=n*N\n",
    "print(n)\n",
    "\n",
    "# i=int(input())\n",
    "# fact=1\n",
    "# for i in range(1,i+1):\n",
    "#     fact=fact*i\n",
    "#     print(fact)\n",
    "\n"
   ]
  },
  {
   "cell_type": "code",
   "execution_count": 13,
   "metadata": {},
   "outputs": [
    {
     "name": "stdout",
     "output_type": "stream",
     "text": [
      "2\n",
      "4\n",
      "no of even's: 2\n"
     ]
    }
   ],
   "source": [
    "#even no: \n",
    "#1 to N\n",
    "# how many no are even in 1 to N\n",
    "\n",
    "N=int(input())\n",
    "j=0\n",
    "for i in range(1,N+1):\n",
    "    if i%2==0:\n",
    "        j=j+1\n",
    "        print(i)\n",
    "    \n",
    "print(\"no of even's:\",j)\n"
   ]
  },
  {
   "cell_type": "code",
   "execution_count": 11,
   "metadata": {},
   "outputs": [
    {
     "name": "stdout",
     "output_type": "stream",
     "text": [
      "you entered the input 19\n",
      "19 prime\n"
     ]
    }
   ],
   "source": [
    "#prime\n",
    "#1 and itself\n",
    "\n",
    "N=int(input())\n",
    "flag=1\n",
    "div=2\n",
    "print(\"you entered the input\",N)\n",
    "if div<N:\n",
    "    for div in range(div,N-1):\n",
    "        if N%div==0:\n",
    "            flag=0\n",
    "if flag==0:\n",
    "    print(N,\" not prime\")\n",
    "else:\n",
    "    print(N,\"prime\")\n"
   ]
  },
  {
   "cell_type": "code",
   "execution_count": 12,
   "metadata": {},
   "outputs": [
    {
     "name": "stdout",
     "output_type": "stream",
     "text": [
      "hiii\n",
      "hiii\n"
     ]
    }
   ],
   "source": [
    "print(\"hiii\")\n",
    "print(\"hiii\")"
   ]
  },
  {
   "cell_type": "code",
   "execution_count": null,
   "metadata": {},
   "outputs": [],
   "source": []
  }
 ],
 "metadata": {
  "kernelspec": {
   "display_name": "Python 3",
   "language": "python",
   "name": "python3"
  },
  "language_info": {
   "codemirror_mode": {
    "name": "ipython",
    "version": 3
   },
   "file_extension": ".py",
   "mimetype": "text/x-python",
   "name": "python",
   "nbconvert_exporter": "python",
   "pygments_lexer": "ipython3",
   "version": "3.8.10"
  },
  "orig_nbformat": 4
 },
 "nbformat": 4,
 "nbformat_minor": 2
}
