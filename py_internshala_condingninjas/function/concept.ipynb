{
 "cells": [
  {
   "cell_type": "code",
   "execution_count": 2,
   "metadata": {},
   "outputs": [
    {
     "name": "stdout",
     "output_type": "stream",
     "text": [
      "5 global var\n"
     ]
    }
   ],
   "source": [
    "#function\n",
    "\n",
    "a=5\n",
    "def hii():\n",
    "    b=4\n",
    "    print(\"local var\",b)\n",
    "print(a,\"global var\")\n",
    "hii()\n"
   ]
  },
  {
   "cell_type": "code",
   "execution_count": 4,
   "metadata": {},
   "outputs": [
    {
     "name": "stdout",
     "output_type": "stream",
     "text": [
      "5 global var 9793216\n",
      "9793216 local var 5\n"
     ]
    }
   ],
   "source": [
    "a=5\n",
    "def hii():\n",
    "    global a\n",
    "    print(id(a),\"local var\",a)\n",
    "print(a,\"global var\",id(a))\n",
    "hii()"
   ]
  },
  {
   "cell_type": "code",
   "execution_count": 9,
   "metadata": {},
   "outputs": [
    {
     "name": "stdout",
     "output_type": "stream",
     "text": [
      "6\n",
      "1 2 3 0\n",
      "6\n",
      "1 2 3 4\n"
     ]
    }
   ],
   "source": [
    "# taking arg\n",
    "\n",
    "def hii(a,b,c=5,d=0):  #non_default(give number) and then default number\n",
    "    print(a+b+c) \n",
    "    print(a,b,c,d)\n",
    "hii(1,2,3)\n",
    "hii(1,2,3,4)\n",
    "\n"
   ]
  },
  {
   "cell_type": "code",
   "execution_count": 27,
   "metadata": {},
   "outputs": [
    {
     "name": "stdout",
     "output_type": "stream",
     "text": [
      "120\n",
      "2\n",
      "6\n",
      "10\n"
     ]
    }
   ],
   "source": [
    "#ncr\n",
    "n=int(input())\n",
    "r=int(input())\n",
    "\n",
    "n_fact=1\n",
    "for i in range(1,n+1):\n",
    "    n_fact=n_fact*i\n",
    "print(n_fact)\n",
    "\n",
    "r_fact=1\n",
    "for i in range(1,r+1):\n",
    "    r_fact=r_fact*i\n",
    "print(r_fact)\n",
    "\n",
    "n_r_fact=1\n",
    "for i in range(1,n-r+1):\n",
    "    n_r_fact=n_r_fact*i\n",
    "print(n_r_fact)\n",
    "\n",
    "\n",
    "ncr=n_fact//((r_fact)*(n_r_fact))\n",
    "print(ncr)"
   ]
  },
  {
   "cell_type": "code",
   "execution_count": 36,
   "metadata": {},
   "outputs": [
    {
     "name": "stdout",
     "output_type": "stream",
     "text": [
      "10\n"
     ]
    }
   ],
   "source": [
    "#function using ncr\n",
    "\n",
    "n=int(input())\n",
    "r=int(input())\n",
    "\n",
    "\n",
    "def ncr(a):\n",
    "    n_fact=1\n",
    "    for i in range(1,a+1):\n",
    "        n_fact=n_fact*i\n",
    "    return n_fact\n",
    "\n",
    "no=ncr(n)\n",
    "ro=ncr(r)\n",
    "no_ro=ncr(n-r)\n",
    "\n",
    "ncr=no//((ro)*(no_ro))\n",
    "print(ncr)\n"
   ]
  },
  {
   "cell_type": "code",
   "execution_count": 53,
   "metadata": {},
   "outputs": [
    {
     "name": "stdout",
     "output_type": "stream",
     "text": [
      "not prime\n"
     ]
    }
   ],
   "source": [
    "# simple prime no for any no whether it is a prime or not using func   5 = 1 and 5 itself\n",
    "n=int(input())\n",
    "def prime(n):\n",
    "    for i in range(2,n):\n",
    "        if (n%i==0):\n",
    "            print(\"not prime\")\n",
    "            break\n",
    "        else:\n",
    "            print(\" prime\")\n",
    "            break\n",
    "prime(n)\n",
    "\n",
    "\n",
    "\n"
   ]
  },
  {
   "cell_type": "code",
   "execution_count": 66,
   "metadata": {},
   "outputs": [
    {
     "ename": "NameError",
     "evalue": "name 'fullno' is not defined",
     "output_type": "error",
     "traceback": [
      "\u001b[0;31m---------------------------------------------------------------------------\u001b[0m",
      "\u001b[0;31mNameError\u001b[0m                                 Traceback (most recent call last)",
      "Cell \u001b[0;32mIn[66], line 5\u001b[0m\n\u001b[1;32m      2\u001b[0m n\u001b[39m=\u001b[39m\u001b[39mint\u001b[39m(\u001b[39minput\u001b[39m())\n\u001b[1;32m      4\u001b[0m \u001b[39mfor\u001b[39;00m i \u001b[39min\u001b[39;00m \u001b[39mrange\u001b[39m(\u001b[39m2\u001b[39m,n):\n\u001b[0;32m----> 5\u001b[0m     fullno(i)\n\u001b[1;32m      6\u001b[0m     \u001b[39mprint\u001b[39m(i)\n\u001b[1;32m      8\u001b[0m \u001b[39mdef\u001b[39;00m \u001b[39mfullno\u001b[39m(i):\n",
      "\u001b[0;31mNameError\u001b[0m: name 'fullno' is not defined"
     ]
    }
   ],
   "source": [
    "#print prime 2 to n using func   7: 2,3,5\n",
    "n=int(input())\n",
    "\n",
    "def fullno(i):\n",
    "        for j in range(2,n):\n",
    "            if i%j==0:\n",
    "                return False\n",
    "        else:\n",
    "             return True\n",
    "for i in range(2,n):\n",
    "    fullno(i)\n",
    "    print(i)\n",
    "\n",
    "\n",
    "\n"
   ]
  },
  {
   "cell_type": "code",
   "execution_count": null,
   "metadata": {},
   "outputs": [],
   "source": [
    "\n",
    "\n",
    "def prime(n):\n",
    "    for i in range(2,n):\n",
    "        for div in range(2,n):\n",
    "            if (i%div==0):\n",
    "                print('notprime')\n",
    "            else:\n",
    "                print(\"prime\")\n",
    "                break\n",
    "prime(n)"
   ]
  }
 ],
 "metadata": {
  "kernelspec": {
   "display_name": "Python 3",
   "language": "python",
   "name": "python3"
  },
  "language_info": {
   "codemirror_mode": {
    "name": "ipython",
    "version": 3
   },
   "file_extension": ".py",
   "mimetype": "text/x-python",
   "name": "python",
   "nbconvert_exporter": "python",
   "pygments_lexer": "ipython3",
   "version": "3.8.10"
  },
  "orig_nbformat": 4
 },
 "nbformat": 4,
 "nbformat_minor": 2
}
