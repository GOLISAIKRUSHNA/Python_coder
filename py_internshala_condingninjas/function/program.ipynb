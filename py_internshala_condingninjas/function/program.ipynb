{
 "cells": [
  {
   "cell_type": "code",
   "execution_count": null,
   "metadata": {},
   "outputs": [],
   "source": [
    "\n",
    "\n",
    "\n",
    "def fullno(n):\n",
    "  #since 0 and 1 is not prime return false.\n",
    "  if(n==1 or n==0 ):\n",
    "    return False\n",
    "   \n",
    "  #Run a loop from 2 to n-1\n",
    "  for i in range(2,n):\n",
    "    #if the number is divisible by i, then n is not a prime number.\n",
    "    if(n%i==0):\n",
    "        return False\n",
    "  else:\n",
    "    return True  #if n=2 then prime\n",
    " \n",
    " \n",
    " \n",
    "N=int(input())\n",
    "#check for every number from 1 to N\n",
    "for i in range(1,N+1):\n",
    "  #check if current number is prime\n",
    "  if(fullno(i)):\n",
    "    print(i,end=\" \")\n",
    "\n",
    "\n",
    "\n"
   ]
  },
  {
   "cell_type": "code",
   "execution_count": null,
   "metadata": {},
   "outputs": [],
   "source": []
  },
  {
   "cell_type": "code",
   "execution_count": 1,
   "metadata": {},
   "outputs": [
    {
     "name": "stdout",
     "output_type": "stream",
     "text": [
      "1\n",
      "1\n",
      "2\n",
      "3\n",
      "5\n"
     ]
    }
   ],
   "source": [
    "#fibo  0112358\n",
    "\n",
    "n=int(input())\n",
    "\n",
    "a=0\n",
    "b=1\n",
    "for i in range(1,n+1):\n",
    "    c=a+b\n",
    "    a=b\n",
    "    b=c\n",
    "    print(a)"
   ]
  },
  {
   "cell_type": "code",
   "execution_count": 29,
   "metadata": {},
   "outputs": [
    {
     "name": "stdout",
     "output_type": "stream",
     "text": [
      "no of digits 3\n",
      "371\n",
      "1\n",
      "343\n",
      "27\n",
      "371\n",
      "heey bro,yoou done it bro\n"
     ]
    }
   ],
   "source": [
    "\n",
    "# armstrong\n",
    "\n",
    "n=int(input())\n",
    "temp=n\n",
    "p=n\n",
    "rev=0\n",
    "\n",
    "digit=0\n",
    "while (temp !=0):\n",
    "    last=temp%10\n",
    "    # rev=rev*10 +last\n",
    "    temp=temp//10\n",
    "    digit=digit+1\n",
    "sum=0\n",
    "print(\"no of digits\",digit)\n",
    "\n",
    "\n",
    "arm=0\n",
    "while (p!=0):\n",
    "    \n",
    "    # arm=0\n",
    "    rem=p%10\n",
    "    arm=rem**digit\n",
    "    print(arm)\n",
    "    sum=sum+arm\n",
    "    \n",
    "    p=p//10\n",
    "\n",
    "print(sum)\n",
    "\n",
    "\n",
    "if(sum==n):\n",
    "    print(\"heey bro,yoou done it bro\")\n",
    "else:\n",
    "    print(\"go and try\")"
   ]
  },
  {
   "cell_type": "code",
   "execution_count": 34,
   "metadata": {},
   "outputs": [
    {
     "name": "stdout",
     "output_type": "stream",
     "text": [
      "The reverse no revno: 541\n",
      "try\n"
     ]
    }
   ],
   "source": [
    "#reverse a number,palin \n",
    "\n",
    "\n",
    "n=int(input())\n",
    "temp=n\n",
    "p=n\n",
    "rev=0\n",
    "digit=0\n",
    "\n",
    "\n",
    "while (temp !=0):\n",
    "    last=temp%10\n",
    "    rev=rev*10 +last\n",
    "    temp=temp//10\n",
    "    digit=digit+1\n",
    "sum=0\n",
    "print(\"The reverse no revno:\",rev)\n",
    "\n",
    "\n",
    "if(p==rev):\n",
    "    print(\"done with palin\")\n",
    "else:\n",
    "    print(\"try\")"
   ]
  },
  {
   "cell_type": "code",
   "execution_count": 39,
   "metadata": {},
   "outputs": [
    {
     "name": "stdout",
     "output_type": "stream",
     "text": [
      "s\n",
      "a\n",
      "i\n"
     ]
    }
   ],
   "source": [
    "for val in (\"saikrushna\"):\n",
    "    if val == 'k':\n",
    "        break\n",
    "    print(val)\n",
    "    "
   ]
  },
  {
   "cell_type": "code",
   "execution_count": null,
   "metadata": {},
   "outputs": [],
   "source": []
  }
 ],
 "metadata": {
  "kernelspec": {
   "display_name": "Python 3",
   "language": "python",
   "name": "python3"
  },
  "language_info": {
   "codemirror_mode": {
    "name": "ipython",
    "version": 3
   },
   "file_extension": ".py",
   "mimetype": "text/x-python",
   "name": "python",
   "nbconvert_exporter": "python",
   "pygments_lexer": "ipython3",
   "version": "3.8.10"
  },
  "orig_nbformat": 4
 },
 "nbformat": 4,
 "nbformat_minor": 2
}
